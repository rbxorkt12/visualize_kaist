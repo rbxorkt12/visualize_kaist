{
 "cells": [
  {
   "cell_type": "code",
   "execution_count": 1,
   "metadata": {},
   "outputs": [],
   "source": [
    "import requests \n",
    "from bs4 import BeautifulSoup as bs\n",
    "import pandas as pd\n",
    "from tqdm import tqdm\n",
    "import time\n",
    "import re"
   ]
  },
  {
   "cell_type": "code",
   "execution_count": 2,
   "metadata": {},
   "outputs": [],
   "source": [
    "def seoul_crawling(start_date, end_date):\n",
    "    headers = {'user-agent': 'Mozilla/5.0 (Windows NT 10.0; Win64; x64) AppleWebKit/537.36 (KHTML, like Gecko) Chrome/86.0.4240.75 Safari/537.36'}\n",
    "    url_1 = \"https://search.seoul.co.kr/index.php?scope=&sort=&cpCode=seoul;nownewsiCategory=&pCategory=undefined\"\n",
    "    kor_url_head = url_1 + \"&period=&sDate=\"+str(start_date)+\"&eDate=\"+str(end_date)+\"&keyword=카이스트&pageNum=\"\n",
    "    eng_url_head = url_1+ \"&period=&sDate=\"+str(start_date)+\"&eDate=\"+str(end_date)+\"&keyword=kaist&pageNum=\"\n",
    "\n",
    "    # 검색 결과에 따른 url 링크 저장\n",
    "    url1 = []\n",
    "    # url 변화하는거 적당히 보고 알아서 잘 해야됨. 페이지 단위로 넘어가는게 아니라면 selenium 써야할 수도 있음.\n",
    "    page = 1\n",
    "    while True:\n",
    "        url_final = eng_url_head + str(page)\n",
    "        try:\n",
    "            response = requests.get(url_final, headers=headers)\n",
    "            html = response.content\n",
    "            soup = bs(html, \"html.parser\")\n",
    "#            page가 넘어갔을 때 검색결과가 없는 경우 while 문 break\n",
    "            if len(soup.select('.no')) != 0:\n",
    "                break\n",
    "            elements = soup.select('.article a[href]') # F12 눌러서 적당히 우리가 원하는 a href 태그 url 링크 달려있는 id 또는 class 찾아서 넣어주면 됨.\n",
    "        except:\n",
    "            print('Request Failed_1')\n",
    "        for element in elements:\n",
    "            link = element.attrs['href']\n",
    "            url1.append(link)\n",
    "        page += 1\n",
    "            \n",
    "    # 검색 결과에 따른 url2 링크 저장\n",
    "    url2 = []\n",
    "    page = 1\n",
    "    while True:\n",
    "        url_final = kor_url_head + str(page)\n",
    "        try:\n",
    "            response = requests.get(url_final, headers=headers)\n",
    "            html = response.content\n",
    "            soup = bs(html, \"html.parser\")\n",
    "#            page가 넘어갔을 때 검색결과가 없는 경우 while 문 break\n",
    "            if len(soup.select('.no')) != 0:\n",
    "                break\n",
    "            elements = soup.select('.article a[href]') # F12 눌러서 적당히 우리가 원하는 a href 태그 url 링크 달려있는 id 또는 class 찾아서 넣어주면 됨.\n",
    "        except:\n",
    "            print('Request Failed_1')\n",
    "        for element in elements:\n",
    "            link = element.attrs['href']\n",
    "            url2.append(link)\n",
    "        page += 1\n",
    "        \n",
    "    url = list(set(url1).union(set(url2)))\n",
    "    if len(url)==0:\n",
    "        print(\"Articles Not Found\")\n",
    "        return 0\n",
    "    \n",
    "    df = pd.DataFrame({\"url\": url}, columns=[\"url\"])\n",
    "    print(\"Total number of articles: \", len(df))\n",
    "    \n",
    "    contents = []\n",
    "    titles = []\n",
    "    urls = []\n",
    "    for row in tqdm(df.itertuples()):\n",
    "        link = getattr(row, 'url')\n",
    "        response = requests.get(link, headers=headers)\n",
    "        html = response.content.decode('euc-kr','replace')\n",
    "        soup = bs(html,'html.parser')\n",
    "        try:\n",
    "            for script in soup([\"script\", \"style\"]):\n",
    "                script.decompose() \n",
    "            title = soup.select('title')[0].get_text()\n",
    "            if 'go.seoul' not in link:\n",
    "                content = soup.select('.S20_v_article')[0].get_text() # select 안에 본문에 해당하는 id 값을 찾아서 넣어주면 됨.\n",
    "            else:\n",
    "                content = soup.select('.atic_txt1')[0].get_text() # select 안에 본문에 해당하는 id 값을 찾아서 넣어주면 됨.\n",
    "            content = content.replace('\\xa0', \" \").replace('\\u3000','').replace('\\r','').replace('\\n', \" \")\n",
    "            title = title.replace('\\xa0', \" \")\n",
    "            title = title.replace('\\n', \" \")\n",
    "            titles.append(title)\n",
    "            contents.append(content)\n",
    "            urls.append(link)\n",
    "        except:\n",
    "            print(row)\n",
    "    df = pd.DataFrame({\"url\": urls, \"title\": titles, \"content\": contents}, columns=[\"url\", \"title\", \"content\"])\n",
    "    df.to_excel(\"articles/seoul.xlsx\",index = False)\n",
    "    df.to_pickle(\"pickle files/seoul.pkl\")"
   ]
  },
  {
   "cell_type": "code",
   "execution_count": 3,
   "metadata": {},
   "outputs": [
    {
     "name": "stderr",
     "output_type": "stream",
     "text": [
      "0it [00:00, ?it/s]"
     ]
    },
    {
     "name": "stdout",
     "output_type": "stream",
     "text": [
      "Total number of articles:  3432\n"
     ]
    },
    {
     "name": "stderr",
     "output_type": "stream",
     "text": [
      "6it [00:02,  2.77it/s]"
     ]
    },
    {
     "name": "stdout",
     "output_type": "stream",
     "text": [
      "Pandas(Index=5, url='http://www.seoul.co.kr/news/newsView.php?id=20161024500059')\n"
     ]
    },
    {
     "name": "stderr",
     "output_type": "stream",
     "text": [
      "7it [00:02,  2.31it/s]"
     ]
    },
    {
     "name": "stdout",
     "output_type": "stream",
     "text": [
      "Pandas(Index=6, url='http://www.seoul.co.kr/news/newsView.php?id=20150325500283')\n"
     ]
    },
    {
     "name": "stderr",
     "output_type": "stream",
     "text": [
      "9it [00:03,  2.20it/s]"
     ]
    },
    {
     "name": "stdout",
     "output_type": "stream",
     "text": [
      "Pandas(Index=8, url='http://www.seoul.co.kr/news/newsView.php?id=20150309500083')\n"
     ]
    },
    {
     "name": "stderr",
     "output_type": "stream",
     "text": [
      "14it [00:05,  2.24it/s]"
     ]
    },
    {
     "name": "stdout",
     "output_type": "stream",
     "text": [
      "Pandas(Index=13, url='http://www.seoul.co.kr/news/newsView.php?id=20150513500080')\n"
     ]
    },
    {
     "name": "stderr",
     "output_type": "stream",
     "text": [
      "130it [00:51,  2.12it/s]"
     ]
    },
    {
     "name": "stdout",
     "output_type": "stream",
     "text": [
      "Pandas(Index=129, url='http://www.seoul.co.kr/news/newsView.php?id=20150325500184')\n"
     ]
    },
    {
     "name": "stderr",
     "output_type": "stream",
     "text": [
      "135it [00:53,  2.35it/s]"
     ]
    },
    {
     "name": "stdout",
     "output_type": "stream",
     "text": [
      "Pandas(Index=134, url='http://www.seoul.co.kr/news/newsView.php?id=20150325500256')\n"
     ]
    },
    {
     "name": "stderr",
     "output_type": "stream",
     "text": [
      "226it [01:25,  2.36it/s]"
     ]
    },
    {
     "name": "stdout",
     "output_type": "stream",
     "text": [
      "Pandas(Index=225, url='http://www.seoul.co.kr/news/newsView.php?id=20150325500173')\n"
     ]
    },
    {
     "name": "stderr",
     "output_type": "stream",
     "text": [
      "227it [01:26,  2.00it/s]"
     ]
    },
    {
     "name": "stdout",
     "output_type": "stream",
     "text": [
      "Pandas(Index=226, url='http://www.seoul.co.kr/news/newsView.php?id=20150416500326')\n"
     ]
    },
    {
     "name": "stderr",
     "output_type": "stream",
     "text": [
      "277it [01:46,  1.08it/s]"
     ]
    },
    {
     "name": "stdout",
     "output_type": "stream",
     "text": [
      "Pandas(Index=276, url='http://www.seoul.co.kr/news/newsView.php?id=20150325500308')\n"
     ]
    },
    {
     "name": "stderr",
     "output_type": "stream",
     "text": [
      "278it [01:47,  1.09s/it]"
     ]
    },
    {
     "name": "stdout",
     "output_type": "stream",
     "text": [
      "Pandas(Index=277, url='http://www.seoul.co.kr/news/newsView.php?id=20150309500026')\n"
     ]
    },
    {
     "name": "stderr",
     "output_type": "stream",
     "text": [
      "305it [01:57,  2.46it/s]"
     ]
    },
    {
     "name": "stdout",
     "output_type": "stream",
     "text": [
      "Pandas(Index=304, url='http://www.seoul.co.kr/news/newsView.php?id=20150425017001')\n"
     ]
    },
    {
     "name": "stderr",
     "output_type": "stream",
     "text": [
      "315it [02:01,  2.34it/s]"
     ]
    },
    {
     "name": "stdout",
     "output_type": "stream",
     "text": [
      "Pandas(Index=314, url='http://www.seoul.co.kr/news/newsView.php?id=20150325500189')\n"
     ]
    },
    {
     "name": "stderr",
     "output_type": "stream",
     "text": [
      "348it [02:18,  1.99it/s]"
     ]
    },
    {
     "name": "stdout",
     "output_type": "stream",
     "text": [
      "Pandas(Index=347, url='http://www.seoul.co.kr/news/newsView.php?id=20171127500041')\n"
     ]
    },
    {
     "name": "stderr",
     "output_type": "stream",
     "text": [
      "369it [02:28,  2.08it/s]"
     ]
    },
    {
     "name": "stdout",
     "output_type": "stream",
     "text": [
      "Pandas(Index=368, url='http://www.seoul.co.kr/news/newsView.php?id=20150504500270')\n"
     ]
    },
    {
     "name": "stderr",
     "output_type": "stream",
     "text": [
      "371it [02:29,  2.20it/s]"
     ]
    },
    {
     "name": "stdout",
     "output_type": "stream",
     "text": [
      "Pandas(Index=370, url='http://www.seoul.co.kr/news/newsView.php?id=20150811019001')\n"
     ]
    },
    {
     "name": "stderr",
     "output_type": "stream",
     "text": [
      "400it [02:40,  2.26it/s]"
     ]
    },
    {
     "name": "stdout",
     "output_type": "stream",
     "text": [
      "Pandas(Index=399, url='http://www.seoul.co.kr/news/newsView.php?id=20150325500161')\n"
     ]
    },
    {
     "name": "stderr",
     "output_type": "stream",
     "text": [
      "403it [02:41,  2.64it/s]"
     ]
    },
    {
     "name": "stdout",
     "output_type": "stream",
     "text": [
      "Pandas(Index=402, url='http://www.seoul.co.kr/news/newsView.php?id=20200604500030')\n"
     ]
    },
    {
     "name": "stderr",
     "output_type": "stream",
     "text": [
      "417it [02:47,  2.08it/s]"
     ]
    },
    {
     "name": "stdout",
     "output_type": "stream",
     "text": [
      "Pandas(Index=416, url='http://www.seoul.co.kr/news/newsView.php?id=20150226500125')\n"
     ]
    },
    {
     "name": "stderr",
     "output_type": "stream",
     "text": [
      "456it [03:02,  2.34it/s]"
     ]
    },
    {
     "name": "stdout",
     "output_type": "stream",
     "text": [
      "Pandas(Index=455, url='http://www.seoul.co.kr/news/newsView.php?id=20150309500047')\n"
     ]
    },
    {
     "name": "stderr",
     "output_type": "stream",
     "text": [
      "479it [03:10,  2.79it/s]"
     ]
    },
    {
     "name": "stdout",
     "output_type": "stream",
     "text": [
      "Pandas(Index=478, url='http://www.seoul.co.kr/news/newsView.php?id=20171214500165')\n"
     ]
    },
    {
     "name": "stderr",
     "output_type": "stream",
     "text": [
      "483it [03:12,  2.77it/s]"
     ]
    },
    {
     "name": "stdout",
     "output_type": "stream",
     "text": [
      "Pandas(Index=482, url='http://www.seoul.co.kr/news/newsView.php?id=20110418019012')\n"
     ]
    },
    {
     "name": "stderr",
     "output_type": "stream",
     "text": [
      "496it [03:19,  1.28it/s]"
     ]
    },
    {
     "name": "stdout",
     "output_type": "stream",
     "text": [
      "Pandas(Index=495, url='http://www.seoul.co.kr/news/newsView.php?id=20150507500074')\n"
     ]
    },
    {
     "name": "stderr",
     "output_type": "stream",
     "text": [
      "546it [03:38,  2.71it/s]"
     ]
    },
    {
     "name": "stdout",
     "output_type": "stream",
     "text": [
      "Pandas(Index=545, url='http://www.seoul.co.kr/news/newsView.php?id=20150325500378')\n"
     ]
    },
    {
     "name": "stderr",
     "output_type": "stream",
     "text": [
      "555it [03:41,  2.22it/s]"
     ]
    },
    {
     "name": "stdout",
     "output_type": "stream",
     "text": [
      "Pandas(Index=554, url='http://www.seoul.co.kr/news/newsView.php?id=20150325500174')\n"
     ]
    },
    {
     "name": "stderr",
     "output_type": "stream",
     "text": [
      "565it [03:45,  2.59it/s]"
     ]
    },
    {
     "name": "stdout",
     "output_type": "stream",
     "text": [
      "Pandas(Index=564, url='http://www.seoul.co.kr/news/newsView.php?id=20180110500115')\n"
     ]
    },
    {
     "name": "stderr",
     "output_type": "stream",
     "text": [
      "567it [03:46,  1.96it/s]"
     ]
    },
    {
     "name": "stdout",
     "output_type": "stream",
     "text": [
      "Pandas(Index=566, url='http://www.seoul.co.kr/news/newsView.php?id=20150325500171')\n"
     ]
    },
    {
     "name": "stderr",
     "output_type": "stream",
     "text": [
      "573it [03:49,  2.43it/s]"
     ]
    },
    {
     "name": "stdout",
     "output_type": "stream",
     "text": [
      "Pandas(Index=572, url='http://www.seoul.co.kr/news/newsView.php?id=20191121033005')\n"
     ]
    },
    {
     "name": "stderr",
     "output_type": "stream",
     "text": [
      "581it [03:52,  2.44it/s]"
     ]
    },
    {
     "name": "stdout",
     "output_type": "stream",
     "text": [
      "Pandas(Index=580, url='http://www.seoul.co.kr/news/newsView.php?id=20150309500059')\n"
     ]
    },
    {
     "name": "stderr",
     "output_type": "stream",
     "text": [
      "588it [03:55,  2.45it/s]"
     ]
    },
    {
     "name": "stdout",
     "output_type": "stream",
     "text": [
      "Pandas(Index=587, url='http://www.seoul.co.kr/news/newsView.php?id=20150507500155')\n"
     ]
    },
    {
     "name": "stderr",
     "output_type": "stream",
     "text": [
      "619it [04:06,  2.57it/s]"
     ]
    },
    {
     "name": "stdout",
     "output_type": "stream",
     "text": [
      "Pandas(Index=618, url='http://www.seoul.co.kr/news/newsView.php?id=20150309500035')\n"
     ]
    },
    {
     "name": "stderr",
     "output_type": "stream",
     "text": [
      "659it [04:19,  3.78it/s]"
     ]
    },
    {
     "name": "stdout",
     "output_type": "stream",
     "text": [
      "Pandas(Index=658, url='http://stv.seoul.co.kr/news/newsView.php?id=20161013500011')\n"
     ]
    },
    {
     "name": "stderr",
     "output_type": "stream",
     "text": [
      "663it [04:20,  2.57it/s]"
     ]
    },
    {
     "name": "stdout",
     "output_type": "stream",
     "text": [
      "Pandas(Index=662, url='http://www.seoul.co.kr/news/newsView.php?id=20150507500038')\n"
     ]
    },
    {
     "name": "stderr",
     "output_type": "stream",
     "text": [
      "665it [04:21,  2.90it/s]"
     ]
    },
    {
     "name": "stdout",
     "output_type": "stream",
     "text": [
      "Pandas(Index=664, url='http://www.seoul.co.kr/news/newsView.php?id=20181030500019')\n"
     ]
    },
    {
     "name": "stderr",
     "output_type": "stream",
     "text": [
      "666it [04:21,  2.71it/s]"
     ]
    },
    {
     "name": "stdout",
     "output_type": "stream",
     "text": [
      "Pandas(Index=665, url='http://www.seoul.co.kr/news/newsView.php?id=20160529500073')\n"
     ]
    },
    {
     "name": "stderr",
     "output_type": "stream",
     "text": [
      "673it [04:24,  1.97it/s]"
     ]
    },
    {
     "name": "stdout",
     "output_type": "stream",
     "text": [
      "Pandas(Index=672, url='http://www.seoul.co.kr/news/newsView.php?id=20160705500073')\n"
     ]
    },
    {
     "name": "stderr",
     "output_type": "stream",
     "text": [
      "705it [04:36,  2.26it/s]"
     ]
    },
    {
     "name": "stdout",
     "output_type": "stream",
     "text": [
      "Pandas(Index=704, url='http://www.seoul.co.kr/news/newsView.php?id=20150506500057')\n"
     ]
    },
    {
     "name": "stderr",
     "output_type": "stream",
     "text": [
      "733it [04:46,  2.04it/s]"
     ]
    },
    {
     "name": "stdout",
     "output_type": "stream",
     "text": [
      "Pandas(Index=732, url='http://www.seoul.co.kr/news/newsView.php?id=20171102500005')\n"
     ]
    },
    {
     "name": "stderr",
     "output_type": "stream",
     "text": [
      "743it [04:51,  2.70it/s]"
     ]
    },
    {
     "name": "stdout",
     "output_type": "stream",
     "text": [
      "Pandas(Index=742, url='http://www.seoul.co.kr/news/newsView.php?id=20200113500124')\n"
     ]
    },
    {
     "name": "stderr",
     "output_type": "stream",
     "text": [
      "746it [04:52,  2.74it/s]"
     ]
    },
    {
     "name": "stdout",
     "output_type": "stream",
     "text": [
      "Pandas(Index=745, url='http://www.seoul.co.kr/news/newsView.php?id=20180228500132')\n"
     ]
    },
    {
     "name": "stderr",
     "output_type": "stream",
     "text": [
      "747it [04:52,  2.38it/s]"
     ]
    },
    {
     "name": "stdout",
     "output_type": "stream",
     "text": [
      "Pandas(Index=746, url='http://www.seoul.co.kr/news/newsView.php?id=20150309500107')\n"
     ]
    },
    {
     "name": "stderr",
     "output_type": "stream",
     "text": [
      "757it [04:56,  2.41it/s]"
     ]
    },
    {
     "name": "stdout",
     "output_type": "stream",
     "text": [
      "Pandas(Index=756, url='http://www.seoul.co.kr/news/newsView.php?id=20150507500019')\n"
     ]
    },
    {
     "name": "stderr",
     "output_type": "stream",
     "text": [
      "765it [04:59,  2.42it/s]"
     ]
    },
    {
     "name": "stdout",
     "output_type": "stream",
     "text": [
      "Pandas(Index=764, url='http://www.seoul.co.kr/news/newsView.php?id=20150325500278')\n"
     ]
    },
    {
     "name": "stderr",
     "output_type": "stream",
     "text": [
      "801it [05:10,  2.50it/s]"
     ]
    },
    {
     "name": "stdout",
     "output_type": "stream",
     "text": [
      "Pandas(Index=800, url='http://www.seoul.co.kr/news/newsView.php?id=20150228500030')\n"
     ]
    },
    {
     "name": "stderr",
     "output_type": "stream",
     "text": [
      "825it [05:18,  2.57it/s]"
     ]
    },
    {
     "name": "stdout",
     "output_type": "stream",
     "text": [
      "Pandas(Index=824, url='http://www.seoul.co.kr/news/newsView.php?id=20150309500142')\n"
     ]
    },
    {
     "name": "stderr",
     "output_type": "stream",
     "text": [
      "832it [05:21,  2.49it/s]"
     ]
    },
    {
     "name": "stdout",
     "output_type": "stream",
     "text": [
      "Pandas(Index=831, url='http://www.seoul.co.kr/news/newsView.php?id=20150326500007')\n"
     ]
    },
    {
     "name": "stderr",
     "output_type": "stream",
     "text": [
      "867it [05:32,  3.24it/s]"
     ]
    },
    {
     "name": "stdout",
     "output_type": "stream",
     "text": [
      "Pandas(Index=866, url='http://www.seoul.co.kr/news/newsView.php?id=20191030500046')\n"
     ]
    },
    {
     "name": "stderr",
     "output_type": "stream",
     "text": [
      "891it [05:39,  2.70it/s]"
     ]
    },
    {
     "name": "stdout",
     "output_type": "stream",
     "text": [
      "Pandas(Index=890, url='http://www.seoul.co.kr/news/newsView.php?id=20150128500301')\n"
     ]
    },
    {
     "name": "stderr",
     "output_type": "stream",
     "text": [
      "951it [05:59,  3.05it/s]"
     ]
    },
    {
     "name": "stdout",
     "output_type": "stream",
     "text": [
      "Pandas(Index=950, url='http://www.seoul.co.kr/news/newsView.php?id=20190409500037')\n"
     ]
    },
    {
     "name": "stderr",
     "output_type": "stream",
     "text": [
      "986it [06:13,  2.63it/s]"
     ]
    },
    {
     "name": "stdout",
     "output_type": "stream",
     "text": [
      "Pandas(Index=985, url='http://www.seoul.co.kr/news/newsView.php?id=20140318500054')\n"
     ]
    },
    {
     "name": "stderr",
     "output_type": "stream",
     "text": [
      "1014it [06:22,  2.99it/s]"
     ]
    },
    {
     "name": "stdout",
     "output_type": "stream",
     "text": [
      "Pandas(Index=1013, url='http://www.seoul.co.kr/news/newsView.php?id=20111003016017')\n"
     ]
    },
    {
     "name": "stderr",
     "output_type": "stream",
     "text": [
      "1020it [06:25,  2.56it/s]"
     ]
    },
    {
     "name": "stdout",
     "output_type": "stream",
     "text": [
      "Pandas(Index=1019, url='http://www.seoul.co.kr/news/newsView.php?id=20150325500298')\n"
     ]
    },
    {
     "name": "stderr",
     "output_type": "stream",
     "text": [
      "1028it [06:28,  2.30it/s]"
     ]
    },
    {
     "name": "stdout",
     "output_type": "stream",
     "text": [
      "Pandas(Index=1027, url='http://www.seoul.co.kr/news/newsView.php?id=20150325500290')\n"
     ]
    },
    {
     "name": "stderr",
     "output_type": "stream",
     "text": [
      "1149it [07:12,  2.58it/s]"
     ]
    },
    {
     "name": "stdout",
     "output_type": "stream",
     "text": [
      "Pandas(Index=1148, url='http://www.seoul.co.kr/news/newsView.php?id=20161025500030')\n"
     ]
    },
    {
     "name": "stderr",
     "output_type": "stream",
     "text": [
      "1156it [07:14,  2.43it/s]"
     ]
    },
    {
     "name": "stdout",
     "output_type": "stream",
     "text": [
      "Pandas(Index=1155, url='http://www.seoul.co.kr/news/newsView.php?id=20150226500094')\n"
     ]
    },
    {
     "name": "stderr",
     "output_type": "stream",
     "text": [
      "1191it [07:25,  2.35it/s]"
     ]
    },
    {
     "name": "stdout",
     "output_type": "stream",
     "text": [
      "Pandas(Index=1190, url='http://www.seoul.co.kr/news/newsView.php?id=20150326500029')\n"
     ]
    },
    {
     "name": "stderr",
     "output_type": "stream",
     "text": [
      "1196it [07:27,  2.40it/s]"
     ]
    },
    {
     "name": "stdout",
     "output_type": "stream",
     "text": [
      "Pandas(Index=1195, url='http://www.seoul.co.kr/news/newsView.php?id=20150325500246')\n"
     ]
    },
    {
     "name": "stderr",
     "output_type": "stream",
     "text": [
      "1233it [07:40,  1.92it/s]"
     ]
    },
    {
     "name": "stdout",
     "output_type": "stream",
     "text": [
      "Pandas(Index=1232, url='http://www.seoul.co.kr/news/newsView.php?id=20150720025002')\n"
     ]
    },
    {
     "name": "stderr",
     "output_type": "stream",
     "text": [
      "1256it [07:50,  2.24it/s]"
     ]
    },
    {
     "name": "stdout",
     "output_type": "stream",
     "text": [
      "Pandas(Index=1255, url='http://www.seoul.co.kr/news/newsView.php?id=20150325500356')\n"
     ]
    },
    {
     "name": "stderr",
     "output_type": "stream",
     "text": [
      "1277it [07:57,  1.37it/s]"
     ]
    },
    {
     "name": "stdout",
     "output_type": "stream",
     "text": [
      "Pandas(Index=1276, url='http://www.seoul.co.kr/news/newsView.php?id=20150226500111')\n"
     ]
    },
    {
     "name": "stderr",
     "output_type": "stream",
     "text": [
      "1283it [08:00,  2.50it/s]"
     ]
    },
    {
     "name": "stdout",
     "output_type": "stream",
     "text": [
      "Pandas(Index=1282, url='http://www.seoul.co.kr/news/newsView.php?id=20180222500058')\n"
     ]
    },
    {
     "name": "stderr",
     "output_type": "stream",
     "text": [
      "1306it [08:07,  2.59it/s]"
     ]
    },
    {
     "name": "stdout",
     "output_type": "stream",
     "text": [
      "Pandas(Index=1305, url='http://www.seoul.co.kr/news/newsView.php?id=20151001500022')\n"
     ]
    },
    {
     "name": "stderr",
     "output_type": "stream",
     "text": [
      "1342it [08:21,  2.58it/s]"
     ]
    },
    {
     "name": "stdout",
     "output_type": "stream",
     "text": [
      "Pandas(Index=1341, url='http://www.seoul.co.kr/news/newsView.php?id=20150325500136')\n"
     ]
    },
    {
     "name": "stderr",
     "output_type": "stream",
     "text": [
      "1351it [08:24,  2.87it/s]"
     ]
    },
    {
     "name": "stdout",
     "output_type": "stream",
     "text": [
      "Pandas(Index=1350, url='http://www.seoul.co.kr/news/newsView.php?id=20180222500016')\n"
     ]
    },
    {
     "name": "stderr",
     "output_type": "stream",
     "text": [
      "1352it [08:24,  2.47it/s]"
     ]
    },
    {
     "name": "stdout",
     "output_type": "stream",
     "text": [
      "Pandas(Index=1351, url='http://www.seoul.co.kr/news/newsView.php?id=20150226500250')\n"
     ]
    },
    {
     "name": "stderr",
     "output_type": "stream",
     "text": [
      "1362it [08:28,  2.51it/s]"
     ]
    },
    {
     "name": "stdout",
     "output_type": "stream",
     "text": [
      "Pandas(Index=1361, url='http://www.seoul.co.kr/news/newsView.php?id=20150325500131')\n"
     ]
    },
    {
     "name": "stderr",
     "output_type": "stream",
     "text": [
      "1369it [08:31,  2.35it/s]"
     ]
    },
    {
     "name": "stdout",
     "output_type": "stream",
     "text": [
      "Pandas(Index=1368, url='http://www.seoul.co.kr/news/newsView.php?id=20150325500238')\n"
     ]
    },
    {
     "name": "stderr",
     "output_type": "stream",
     "text": [
      "1379it [08:35,  2.12it/s]"
     ]
    },
    {
     "name": "stdout",
     "output_type": "stream",
     "text": [
      "Pandas(Index=1378, url='http://www.seoul.co.kr/news/newsView.php?id=20150325500178')\n"
     ]
    },
    {
     "name": "stderr",
     "output_type": "stream",
     "text": [
      "1394it [08:41,  2.20it/s]"
     ]
    },
    {
     "name": "stdout",
     "output_type": "stream",
     "text": [
      "Pandas(Index=1393, url='http://www.seoul.co.kr/news/newsView.php?id=20150507500151')\n"
     ]
    },
    {
     "name": "stderr",
     "output_type": "stream",
     "text": [
      "1407it [08:46,  2.03it/s]"
     ]
    },
    {
     "name": "stdout",
     "output_type": "stream",
     "text": [
      "Pandas(Index=1406, url='http://www.seoul.co.kr/news/newsView.php?id=20150325500166')\n"
     ]
    },
    {
     "name": "stderr",
     "output_type": "stream",
     "text": [
      "1410it [08:47,  2.63it/s]"
     ]
    },
    {
     "name": "stdout",
     "output_type": "stream",
     "text": [
      "Pandas(Index=1409, url='http://www.seoul.co.kr/news/newsView.php?id=20200102500102')\n"
     ]
    },
    {
     "name": "stderr",
     "output_type": "stream",
     "text": [
      "1498it [09:17,  2.33it/s]"
     ]
    },
    {
     "name": "stdout",
     "output_type": "stream",
     "text": [
      "Pandas(Index=1497, url='http://www.seoul.co.kr/news/newsView.php?id=20150325500277')\n"
     ]
    },
    {
     "name": "stderr",
     "output_type": "stream",
     "text": [
      "1517it [09:24,  2.31it/s]"
     ]
    },
    {
     "name": "stdout",
     "output_type": "stream",
     "text": [
      "Pandas(Index=1516, url='http://www.seoul.co.kr/news/newsView.php?id=20150507500085')\n"
     ]
    },
    {
     "name": "stderr",
     "output_type": "stream",
     "text": [
      "1526it [09:28,  2.15it/s]"
     ]
    },
    {
     "name": "stdout",
     "output_type": "stream",
     "text": [
      "Pandas(Index=1525, url='http://www.seoul.co.kr/news/newsView.php?id=20150325500276')\n"
     ]
    },
    {
     "name": "stderr",
     "output_type": "stream",
     "text": [
      "1545it [09:33,  3.45it/s]"
     ]
    },
    {
     "name": "stdout",
     "output_type": "stream",
     "text": [
      "Pandas(Index=1544, url='http://www.seoul.co.kr/news/newsView.php?id=20200722500001')\n"
     ]
    },
    {
     "name": "stderr",
     "output_type": "stream",
     "text": [
      "1571it [09:42,  1.39it/s]"
     ]
    },
    {
     "name": "stdout",
     "output_type": "stream",
     "text": [
      "Pandas(Index=1570, url='http://www.seoul.co.kr/news/newsView.php?id=20150325500216')\n"
     ]
    },
    {
     "name": "stderr",
     "output_type": "stream",
     "text": [
      "1606it [09:55,  3.37it/s]"
     ]
    },
    {
     "name": "stdout",
     "output_type": "stream",
     "text": [
      "Pandas(Index=1605, url='http://www.seoul.co.kr/news/newsView.php?id=20190419500127')\n"
     ]
    },
    {
     "name": "stderr",
     "output_type": "stream",
     "text": [
      "1618it [09:59,  2.53it/s]"
     ]
    },
    {
     "name": "stdout",
     "output_type": "stream",
     "text": [
      "Pandas(Index=1617, url='http://www.seoul.co.kr/news/newsView.php?id=20150226500222')\n"
     ]
    },
    {
     "name": "stderr",
     "output_type": "stream",
     "text": [
      "1622it [10:01,  2.78it/s]"
     ]
    },
    {
     "name": "stdout",
     "output_type": "stream",
     "text": [
      "Pandas(Index=1621, url='http://www.seoul.co.kr/news/newsView.php?id=20170222500011')\n"
     ]
    },
    {
     "name": "stderr",
     "output_type": "stream",
     "text": [
      "1625it [10:02,  3.29it/s]"
     ]
    },
    {
     "name": "stdout",
     "output_type": "stream",
     "text": [
      "Pandas(Index=1624, url='http://stv.seoul.co.kr/news/newsView.php?id=20160614500237')\n"
     ]
    },
    {
     "name": "stderr",
     "output_type": "stream",
     "text": [
      "1628it [10:03,  3.22it/s]"
     ]
    },
    {
     "name": "stdout",
     "output_type": "stream",
     "text": [
      "Pandas(Index=1627, url='http://www.seoul.co.kr/news/newsView.php?id=20190703500024')\n"
     ]
    },
    {
     "name": "stderr",
     "output_type": "stream",
     "text": [
      "1634it [10:05,  2.63it/s]"
     ]
    },
    {
     "name": "stdout",
     "output_type": "stream",
     "text": [
      "Pandas(Index=1633, url='http://www.seoul.co.kr/news/newsView.php?id=20150226500119')\n"
     ]
    },
    {
     "name": "stderr",
     "output_type": "stream",
     "text": [
      "1638it [10:06,  2.36it/s]"
     ]
    },
    {
     "name": "stdout",
     "output_type": "stream",
     "text": [
      "Pandas(Index=1637, url='http://www.seoul.co.kr/news/newsView.php?id=20150226500196')\n"
     ]
    },
    {
     "name": "stderr",
     "output_type": "stream",
     "text": [
      "1671it [10:17,  3.37it/s]"
     ]
    },
    {
     "name": "stdout",
     "output_type": "stream",
     "text": [
      "Pandas(Index=1670, url='http://www.seoul.co.kr/news/newsView.php?id=20200207500025')\n"
     ]
    },
    {
     "name": "stderr",
     "output_type": "stream",
     "text": [
      "1676it [10:19,  3.12it/s]"
     ]
    },
    {
     "name": "stdout",
     "output_type": "stream",
     "text": [
      "Pandas(Index=1675, url='http://www.seoul.co.kr/news/newsView.php?id=20180309500141')\n"
     ]
    },
    {
     "name": "stderr",
     "output_type": "stream",
     "text": [
      "1709it [10:31,  1.23it/s]"
     ]
    },
    {
     "name": "stdout",
     "output_type": "stream",
     "text": [
      "Pandas(Index=1708, url='http://www.seoul.co.kr/news/newsView.php?id=20150325500394')\n"
     ]
    },
    {
     "name": "stderr",
     "output_type": "stream",
     "text": [
      "1711it [10:32,  1.53it/s]"
     ]
    },
    {
     "name": "stdout",
     "output_type": "stream",
     "text": [
      "Pandas(Index=1710, url='http://www.seoul.co.kr/news/newsView.php?id=20150325500194')\n"
     ]
    },
    {
     "name": "stderr",
     "output_type": "stream",
     "text": [
      "1739it [10:41,  2.77it/s]"
     ]
    },
    {
     "name": "stdout",
     "output_type": "stream",
     "text": [
      "Pandas(Index=1738, url='http://www.seoul.co.kr/news/newsView.php?id=20150309500222')\n"
     ]
    },
    {
     "name": "stderr",
     "output_type": "stream",
     "text": [
      "1789it [10:56,  2.66it/s]"
     ]
    },
    {
     "name": "stdout",
     "output_type": "stream",
     "text": [
      "Pandas(Index=1788, url='http://www.seoul.co.kr/news/newsView.php?id=20170617500025')\n"
     ]
    },
    {
     "name": "stderr",
     "output_type": "stream",
     "text": [
      "1790it [10:57,  2.21it/s]"
     ]
    },
    {
     "name": "stdout",
     "output_type": "stream",
     "text": [
      "Pandas(Index=1789, url='http://www.seoul.co.kr/news/newsView.php?id=20150514500006')\n"
     ]
    },
    {
     "name": "stderr",
     "output_type": "stream",
     "text": [
      "1814it [11:05,  2.76it/s]"
     ]
    },
    {
     "name": "stdout",
     "output_type": "stream",
     "text": [
      "Pandas(Index=1813, url='http://www.seoul.co.kr/news/newsView.php?id=20150309500187')\n"
     ]
    },
    {
     "name": "stderr",
     "output_type": "stream",
     "text": [
      "1820it [11:07,  2.83it/s]"
     ]
    },
    {
     "name": "stdout",
     "output_type": "stream",
     "text": [
      "Pandas(Index=1819, url='http://www.seoul.co.kr/news/newsView.php?id=20110328020008')\n"
     ]
    },
    {
     "name": "stderr",
     "output_type": "stream",
     "text": [
      "1825it [11:09,  3.12it/s]"
     ]
    },
    {
     "name": "stdout",
     "output_type": "stream",
     "text": [
      "Pandas(Index=1824, url='http://www.seoul.co.kr/news/newsView.php?id=20191213500090')\n"
     ]
    },
    {
     "name": "stderr",
     "output_type": "stream",
     "text": [
      "1866it [11:23,  2.46it/s]"
     ]
    },
    {
     "name": "stdout",
     "output_type": "stream",
     "text": [
      "Pandas(Index=1865, url='http://www.seoul.co.kr/news/newsView.php?id=20150309500128')\n"
     ]
    },
    {
     "name": "stderr",
     "output_type": "stream",
     "text": [
      "1877it [11:26,  2.51it/s]"
     ]
    },
    {
     "name": "stdout",
     "output_type": "stream",
     "text": [
      "Pandas(Index=1876, url='http://www.seoul.co.kr/news/newsView.php?id=20150325500140')\n"
     ]
    },
    {
     "name": "stderr",
     "output_type": "stream",
     "text": [
      "1890it [11:31,  2.35it/s]"
     ]
    },
    {
     "name": "stdout",
     "output_type": "stream",
     "text": [
      "Pandas(Index=1889, url='http://www.seoul.co.kr/news/newsView.php?id=20151001500039')\n"
     ]
    },
    {
     "name": "stderr",
     "output_type": "stream",
     "text": [
      "1929it [11:46,  2.35it/s]"
     ]
    },
    {
     "name": "stdout",
     "output_type": "stream",
     "text": [
      "Pandas(Index=1928, url='http://www.seoul.co.kr/news/newsView.php?id=20150616023002')\n"
     ]
    },
    {
     "name": "stderr",
     "output_type": "stream",
     "text": [
      "1964it [11:59,  2.16it/s]"
     ]
    },
    {
     "name": "stdout",
     "output_type": "stream",
     "text": [
      "Pandas(Index=1963, url='http://www.seoul.co.kr/news/newsView.php?id=20140309500016')\n"
     ]
    },
    {
     "name": "stderr",
     "output_type": "stream",
     "text": [
      "1981it [12:05,  2.34it/s]"
     ]
    },
    {
     "name": "stdout",
     "output_type": "stream",
     "text": [
      "Pandas(Index=1980, url='http://www.seoul.co.kr/news/newsView.php?id=20150505500210')\n"
     ]
    },
    {
     "name": "stderr",
     "output_type": "stream",
     "text": [
      "2003it [12:13,  2.54it/s]"
     ]
    },
    {
     "name": "stdout",
     "output_type": "stream",
     "text": [
      "Pandas(Index=2002, url='http://www.seoul.co.kr/news/newsView.php?id=20150513500041')\n"
     ]
    },
    {
     "name": "stderr",
     "output_type": "stream",
     "text": [
      "2031it [12:24,  2.13it/s]"
     ]
    },
    {
     "name": "stdout",
     "output_type": "stream",
     "text": [
      "Pandas(Index=2030, url='http://www.seoul.co.kr/news/newsView.php?id=20150226500182')\n"
     ]
    },
    {
     "name": "stderr",
     "output_type": "stream",
     "text": [
      "2061it [12:34,  2.39it/s]"
     ]
    },
    {
     "name": "stdout",
     "output_type": "stream",
     "text": [
      "Pandas(Index=2060, url='http://www.seoul.co.kr/news/newsView.php?id=20140108500118')\n"
     ]
    },
    {
     "name": "stderr",
     "output_type": "stream",
     "text": [
      "2094it [12:45,  2.42it/s]"
     ]
    },
    {
     "name": "stdout",
     "output_type": "stream",
     "text": [
      "Pandas(Index=2093, url='http://www.seoul.co.kr/news/newsView.php?id=20150506500313')\n"
     ]
    },
    {
     "name": "stderr",
     "output_type": "stream",
     "text": [
      "2098it [12:47,  2.36it/s]"
     ]
    },
    {
     "name": "stdout",
     "output_type": "stream",
     "text": [
      "Pandas(Index=2097, url='http://www.seoul.co.kr/news/newsView.php?id=20151106022003')\n"
     ]
    },
    {
     "name": "stderr",
     "output_type": "stream",
     "text": [
      "2113it [12:52,  2.56it/s]"
     ]
    },
    {
     "name": "stdout",
     "output_type": "stream",
     "text": [
      "Pandas(Index=2112, url='http://www.seoul.co.kr/news/newsView.php?id=20120917019002')\n"
     ]
    },
    {
     "name": "stderr",
     "output_type": "stream",
     "text": [
      "2119it [12:54,  2.12it/s]"
     ]
    },
    {
     "name": "stdout",
     "output_type": "stream",
     "text": [
      "Pandas(Index=2118, url='http://www.seoul.co.kr/news/newsView.php?id=20150507500093')\n"
     ]
    },
    {
     "name": "stderr",
     "output_type": "stream",
     "text": [
      "2127it [12:58,  2.28it/s]"
     ]
    },
    {
     "name": "stdout",
     "output_type": "stream",
     "text": [
      "Pandas(Index=2126, url='http://www.seoul.co.kr/news/newsView.php?id=20150513500140')\n"
     ]
    },
    {
     "name": "stderr",
     "output_type": "stream",
     "text": [
      "2132it [12:59,  2.60it/s]"
     ]
    },
    {
     "name": "stdout",
     "output_type": "stream",
     "text": [
      "Pandas(Index=2131, url='http://www.seoul.co.kr/news/newsView.php?id=20150325500163')\n"
     ]
    },
    {
     "name": "stderr",
     "output_type": "stream",
     "text": [
      "2139it [13:02,  2.92it/s]"
     ]
    },
    {
     "name": "stdout",
     "output_type": "stream",
     "text": [
      "Pandas(Index=2138, url='http://www.seoul.co.kr/news/newsView.php?id=20161123500136')\n"
     ]
    },
    {
     "name": "stderr",
     "output_type": "stream",
     "text": [
      "2151it [13:05,  2.94it/s]"
     ]
    },
    {
     "name": "stdout",
     "output_type": "stream",
     "text": [
      "Pandas(Index=2150, url='http://www.seoul.co.kr/news/newsView.php?id=20170222500063')\n"
     ]
    },
    {
     "name": "stderr",
     "output_type": "stream",
     "text": [
      "2160it [13:08,  2.74it/s]"
     ]
    },
    {
     "name": "stdout",
     "output_type": "stream",
     "text": [
      "Pandas(Index=2159, url='http://www.seoul.co.kr/news/newsView.php?id=20110905018003')\n"
     ]
    },
    {
     "name": "stderr",
     "output_type": "stream",
     "text": [
      "2165it [13:12,  1.43it/s]"
     ]
    },
    {
     "name": "stdout",
     "output_type": "stream",
     "text": [
      "Pandas(Index=2164, url='http://www.seoul.co.kr/news/newsView.php?id=20161123500119')\n"
     ]
    },
    {
     "name": "stderr",
     "output_type": "stream",
     "text": [
      "2179it [13:17,  1.59it/s]"
     ]
    },
    {
     "name": "stdout",
     "output_type": "stream",
     "text": [
      "Pandas(Index=2178, url='http://www.seoul.co.kr/news/newsView.php?id=20150513500240')\n"
     ]
    },
    {
     "name": "stderr",
     "output_type": "stream",
     "text": [
      "2180it [13:18,  1.32it/s]"
     ]
    },
    {
     "name": "stdout",
     "output_type": "stream",
     "text": [
      "Pandas(Index=2179, url='http://www.seoul.co.kr/news/newsView.php?id=20150513500197')\n"
     ]
    },
    {
     "name": "stderr",
     "output_type": "stream",
     "text": [
      "2183it [13:20,  1.30it/s]"
     ]
    },
    {
     "name": "stdout",
     "output_type": "stream",
     "text": [
      "Pandas(Index=2182, url='http://www.seoul.co.kr/news/newsView.php?id=20150226500104')\n"
     ]
    },
    {
     "name": "stderr",
     "output_type": "stream",
     "text": [
      "2186it [13:21,  1.87it/s]"
     ]
    },
    {
     "name": "stdout",
     "output_type": "stream",
     "text": [
      "Pandas(Index=2185, url='http://www.seoul.co.kr/news/newsView.php?id=20150513500156')\n"
     ]
    },
    {
     "name": "stderr",
     "output_type": "stream",
     "text": [
      "2205it [13:28,  2.52it/s]"
     ]
    },
    {
     "name": "stdout",
     "output_type": "stream",
     "text": [
      "Pandas(Index=2204, url='http://www.seoul.co.kr/news/newsView.php?id=20150325500313')\n"
     ]
    },
    {
     "name": "stderr",
     "output_type": "stream",
     "text": [
      "2218it [13:33,  2.34it/s]"
     ]
    },
    {
     "name": "stdout",
     "output_type": "stream",
     "text": [
      "Pandas(Index=2217, url='http://www.seoul.co.kr/news/newsView.php?id=20150226500096')\n"
     ]
    },
    {
     "name": "stderr",
     "output_type": "stream",
     "text": [
      "2243it [13:42,  2.52it/s]"
     ]
    },
    {
     "name": "stdout",
     "output_type": "stream",
     "text": [
      "Pandas(Index=2242, url='http://www.seoul.co.kr/news/newsView.php?id=20150227500053')\n"
     ]
    },
    {
     "name": "stderr",
     "output_type": "stream",
     "text": [
      "2249it [13:43,  3.09it/s]"
     ]
    },
    {
     "name": "stdout",
     "output_type": "stream",
     "text": [
      "Pandas(Index=2248, url='http://www.seoul.co.kr/news/newsView.php?id=20171025500054')\n"
     ]
    },
    {
     "name": "stderr",
     "output_type": "stream",
     "text": [
      "2263it [13:48,  2.98it/s]"
     ]
    },
    {
     "name": "stdout",
     "output_type": "stream",
     "text": [
      "Pandas(Index=2262, url='http://www.seoul.co.kr/news/newsView.php?id=20180124500188')\n"
     ]
    },
    {
     "name": "stderr",
     "output_type": "stream",
     "text": [
      "2296it [13:59,  2.41it/s]"
     ]
    },
    {
     "name": "stdout",
     "output_type": "stream",
     "text": [
      "Pandas(Index=2295, url='http://www.seoul.co.kr/news/newsView.php?id=20150507500109')\n"
     ]
    },
    {
     "name": "stderr",
     "output_type": "stream",
     "text": [
      "2305it [14:02,  2.86it/s]"
     ]
    },
    {
     "name": "stdout",
     "output_type": "stream",
     "text": [
      "Pandas(Index=2304, url='http://www.seoul.co.kr/news/newsView.php?id=20171019500175')\n"
     ]
    },
    {
     "name": "stderr",
     "output_type": "stream",
     "text": [
      "2312it [14:05,  2.10it/s]"
     ]
    },
    {
     "name": "stdout",
     "output_type": "stream",
     "text": [
      "Pandas(Index=2311, url='http://www.seoul.co.kr/news/newsView.php?id=20150325500145')\n"
     ]
    },
    {
     "name": "stderr",
     "output_type": "stream",
     "text": [
      "2317it [14:07,  2.44it/s]"
     ]
    },
    {
     "name": "stdout",
     "output_type": "stream",
     "text": [
      "Pandas(Index=2316, url='http://www.seoul.co.kr/news/newsView.php?id=20190729500133')\n"
     ]
    },
    {
     "name": "stderr",
     "output_type": "stream",
     "text": [
      "2358it [14:21,  2.92it/s]"
     ]
    },
    {
     "name": "stdout",
     "output_type": "stream",
     "text": [
      "Pandas(Index=2357, url='http://www.seoul.co.kr/news/newsView.php?id=20120514019008')\n"
     ]
    },
    {
     "name": "stderr",
     "output_type": "stream",
     "text": [
      "2373it [14:26,  3.04it/s]"
     ]
    },
    {
     "name": "stdout",
     "output_type": "stream",
     "text": [
      "Pandas(Index=2372, url='http://www.seoul.co.kr/news/newsView.php?id=20190222500037')\n"
     ]
    },
    {
     "name": "stderr",
     "output_type": "stream",
     "text": [
      "2404it [14:38,  2.55it/s]"
     ]
    },
    {
     "name": "stdout",
     "output_type": "stream",
     "text": [
      "Pandas(Index=2403, url='http://www.seoul.co.kr/news/newsView.php?id=20150507500079')\n"
     ]
    },
    {
     "name": "stderr",
     "output_type": "stream",
     "text": [
      "2407it [14:39,  2.40it/s]"
     ]
    },
    {
     "name": "stdout",
     "output_type": "stream",
     "text": [
      "Pandas(Index=2406, url='http://www.seoul.co.kr/news/newsView.php?id=20150513500180')\n"
     ]
    },
    {
     "name": "stderr",
     "output_type": "stream",
     "text": [
      "2409it [14:40,  2.34it/s]"
     ]
    },
    {
     "name": "stdout",
     "output_type": "stream",
     "text": [
      "Pandas(Index=2408, url='http://www.seoul.co.kr/news/newsView.php?id=20150526500070')\n"
     ]
    },
    {
     "name": "stderr",
     "output_type": "stream",
     "text": [
      "2431it [14:47,  2.54it/s]"
     ]
    },
    {
     "name": "stdout",
     "output_type": "stream",
     "text": [
      "Pandas(Index=2430, url='http://www.seoul.co.kr/news/newsView.php?id=20160905500123')\n"
     ]
    },
    {
     "name": "stderr",
     "output_type": "stream",
     "text": [
      "2432it [14:48,  2.47it/s]"
     ]
    },
    {
     "name": "stdout",
     "output_type": "stream",
     "text": [
      "Pandas(Index=2431, url='http://www.seoul.co.kr/news/newsView.php?id=20171030500188')\n"
     ]
    },
    {
     "name": "stderr",
     "output_type": "stream",
     "text": [
      "2438it [14:50,  2.90it/s]"
     ]
    },
    {
     "name": "stdout",
     "output_type": "stream",
     "text": [
      "Pandas(Index=2437, url='http://www.seoul.co.kr/news/newsView.php?id=20180103500158')\n"
     ]
    },
    {
     "name": "stderr",
     "output_type": "stream",
     "text": [
      "2472it [15:03,  2.54it/s]"
     ]
    },
    {
     "name": "stdout",
     "output_type": "stream",
     "text": [
      "Pandas(Index=2471, url='http://www.seoul.co.kr/news/newsView.php?id=20150512500290')\n"
     ]
    },
    {
     "name": "stderr",
     "output_type": "stream",
     "text": [
      "2490it [15:10,  1.70it/s]"
     ]
    },
    {
     "name": "stdout",
     "output_type": "stream",
     "text": [
      "Pandas(Index=2489, url='http://www.seoul.co.kr/news/newsView.php?id=20150228500075')\n"
     ]
    },
    {
     "name": "stderr",
     "output_type": "stream",
     "text": [
      "2494it [15:11,  2.17it/s]"
     ]
    },
    {
     "name": "stdout",
     "output_type": "stream",
     "text": [
      "Pandas(Index=2493, url='http://www.seoul.co.kr/news/newsView.php?id=20150226500202')\n"
     ]
    },
    {
     "name": "stderr",
     "output_type": "stream",
     "text": [
      "2523it [15:21,  2.60it/s]"
     ]
    },
    {
     "name": "stdout",
     "output_type": "stream",
     "text": [
      "Pandas(Index=2522, url='http://www.seoul.co.kr/news/newsView.php?id=20150513500131')\n"
     ]
    },
    {
     "name": "stderr",
     "output_type": "stream",
     "text": [
      "2524it [15:22,  2.28it/s]"
     ]
    },
    {
     "name": "stdout",
     "output_type": "stream",
     "text": [
      "Pandas(Index=2523, url='http://www.seoul.co.kr/news/newsView.php?id=20150309500108')\n"
     ]
    },
    {
     "name": "stderr",
     "output_type": "stream",
     "text": [
      "2531it [15:24,  2.55it/s]"
     ]
    },
    {
     "name": "stdout",
     "output_type": "stream",
     "text": [
      "Pandas(Index=2530, url='http://www.seoul.co.kr/news/newsView.php?id=20150325500156')\n"
     ]
    },
    {
     "name": "stderr",
     "output_type": "stream",
     "text": [
      "2551it [15:31,  3.46it/s]"
     ]
    },
    {
     "name": "stdout",
     "output_type": "stream",
     "text": [
      "Pandas(Index=2550, url='http://stv.seoul.co.kr/news/newsView.php?id=20170421500001')\n"
     ]
    },
    {
     "name": "stderr",
     "output_type": "stream",
     "text": [
      "2576it [15:39,  2.66it/s]"
     ]
    },
    {
     "name": "stdout",
     "output_type": "stream",
     "text": [
      "Pandas(Index=2575, url='http://www.seoul.co.kr/news/newsView.php?id=20150507500123')\n"
     ]
    },
    {
     "name": "stderr",
     "output_type": "stream",
     "text": [
      "2623it [15:55,  2.48it/s]"
     ]
    },
    {
     "name": "stdout",
     "output_type": "stream",
     "text": [
      "Pandas(Index=2622, url='http://www.seoul.co.kr/news/newsView.php?id=20150226500129')\n"
     ]
    },
    {
     "name": "stderr",
     "output_type": "stream",
     "text": [
      "2636it [15:59,  2.76it/s]"
     ]
    },
    {
     "name": "stdout",
     "output_type": "stream",
     "text": [
      "Pandas(Index=2635, url='http://www.seoul.co.kr/news/newsView.php?id=20150325500155')\n"
     ]
    },
    {
     "name": "stderr",
     "output_type": "stream",
     "text": [
      "2640it [16:01,  2.46it/s]"
     ]
    },
    {
     "name": "stdout",
     "output_type": "stream",
     "text": [
      "Pandas(Index=2639, url='http://www.seoul.co.kr/news/newsView.php?id=20150326500032')\n"
     ]
    },
    {
     "name": "stderr",
     "output_type": "stream",
     "text": [
      "2662it [16:09,  2.41it/s]"
     ]
    },
    {
     "name": "stdout",
     "output_type": "stream",
     "text": [
      "Pandas(Index=2661, url='http://www.seoul.co.kr/news/newsView.php?id=20150325500179')\n"
     ]
    },
    {
     "name": "stderr",
     "output_type": "stream",
     "text": [
      "2690it [16:19,  2.90it/s]"
     ]
    },
    {
     "name": "stdout",
     "output_type": "stream",
     "text": [
      "Pandas(Index=2689, url='http://www.seoul.co.kr/news/newsView.php?id=20120116019003')\n"
     ]
    },
    {
     "name": "stderr",
     "output_type": "stream",
     "text": [
      "2726it [16:33,  1.60it/s]"
     ]
    },
    {
     "name": "stdout",
     "output_type": "stream",
     "text": [
      "Pandas(Index=2725, url='http://www.seoul.co.kr/news/newsView.php?id=20150325500147')\n"
     ]
    },
    {
     "name": "stderr",
     "output_type": "stream",
     "text": [
      "2765it [16:47,  1.47it/s]"
     ]
    },
    {
     "name": "stdout",
     "output_type": "stream",
     "text": [
      "Pandas(Index=2764, url='http://www.seoul.co.kr/news/newsView.php?id=20150309500130')\n"
     ]
    },
    {
     "name": "stderr",
     "output_type": "stream",
     "text": [
      "2855it [17:16,  2.56it/s]"
     ]
    },
    {
     "name": "stdout",
     "output_type": "stream",
     "text": [
      "Pandas(Index=2854, url='http://www.seoul.co.kr/news/newsView.php?id=20150514500015')\n"
     ]
    },
    {
     "name": "stderr",
     "output_type": "stream",
     "text": [
      "2885it [17:26,  2.19it/s]"
     ]
    },
    {
     "name": "stdout",
     "output_type": "stream",
     "text": [
      "Pandas(Index=2884, url='http://www.seoul.co.kr/news/newsView.php?id=20150507500070')\n"
     ]
    },
    {
     "name": "stderr",
     "output_type": "stream",
     "text": [
      "2892it [17:28,  2.56it/s]"
     ]
    },
    {
     "name": "stdout",
     "output_type": "stream",
     "text": [
      "Pandas(Index=2891, url='http://www.seoul.co.kr/news/newsView.php?id=20150228500054')\n"
     ]
    },
    {
     "name": "stderr",
     "output_type": "stream",
     "text": [
      "2950it [17:48,  2.54it/s]"
     ]
    },
    {
     "name": "stdout",
     "output_type": "stream",
     "text": [
      "Pandas(Index=2949, url='http://www.seoul.co.kr/news/newsView.php?id=20150325500322')\n"
     ]
    },
    {
     "name": "stderr",
     "output_type": "stream",
     "text": [
      "2981it [18:00,  2.46it/s]"
     ]
    },
    {
     "name": "stdout",
     "output_type": "stream",
     "text": [
      "Pandas(Index=2980, url='http://www.seoul.co.kr/news/newsView.php?id=20150325500349')\n"
     ]
    },
    {
     "name": "stderr",
     "output_type": "stream",
     "text": [
      "2986it [18:01,  2.60it/s]"
     ]
    },
    {
     "name": "stdout",
     "output_type": "stream",
     "text": [
      "Pandas(Index=2985, url='http://www.seoul.co.kr/news/newsView.php?id=20150226500273')\n"
     ]
    },
    {
     "name": "stderr",
     "output_type": "stream",
     "text": [
      "3005it [18:08,  2.38it/s]"
     ]
    },
    {
     "name": "stdout",
     "output_type": "stream",
     "text": [
      "Pandas(Index=3004, url='http://www.seoul.co.kr/news/newsView.php?id=20130924020007')\n"
     ]
    },
    {
     "name": "stderr",
     "output_type": "stream",
     "text": [
      "3012it [18:10,  2.54it/s]"
     ]
    },
    {
     "name": "stdout",
     "output_type": "stream",
     "text": [
      "Pandas(Index=3011, url='http://www.seoul.co.kr/news/newsView.php?id=20150325500158')\n"
     ]
    },
    {
     "name": "stderr",
     "output_type": "stream",
     "text": [
      "3014it [18:11,  2.21it/s]"
     ]
    },
    {
     "name": "stdout",
     "output_type": "stream",
     "text": [
      "Pandas(Index=3013, url='http://www.seoul.co.kr/news/newsView.php?id=20150128500212')\n"
     ]
    },
    {
     "name": "stderr",
     "output_type": "stream",
     "text": [
      "3018it [18:12,  2.70it/s]"
     ]
    },
    {
     "name": "stdout",
     "output_type": "stream",
     "text": [
      "Pandas(Index=3017, url='http://www.seoul.co.kr/news/newsView.php?id=20150226500110')\n"
     ]
    },
    {
     "name": "stderr",
     "output_type": "stream",
     "text": [
      "3051it [18:23,  3.35it/s]"
     ]
    },
    {
     "name": "stdout",
     "output_type": "stream",
     "text": [
      "Pandas(Index=3050, url='http://www.seoul.co.kr/news/newsView.php?id=20190311500072')\n"
     ]
    },
    {
     "name": "stderr",
     "output_type": "stream",
     "text": [
      "3085it [18:35,  2.30it/s]"
     ]
    },
    {
     "name": "stdout",
     "output_type": "stream",
     "text": [
      "Pandas(Index=3084, url='http://www.seoul.co.kr/news/newsView.php?id=20150309500071')\n"
     ]
    },
    {
     "name": "stderr",
     "output_type": "stream",
     "text": [
      "3128it [18:50,  2.80it/s]"
     ]
    },
    {
     "name": "stdout",
     "output_type": "stream",
     "text": [
      "Pandas(Index=3127, url='http://www.seoul.co.kr/news/newsView.php?id=20160908500110')\n"
     ]
    },
    {
     "name": "stderr",
     "output_type": "stream",
     "text": [
      "3136it [18:53,  2.71it/s]"
     ]
    },
    {
     "name": "stdout",
     "output_type": "stream",
     "text": [
      "Pandas(Index=3135, url='http://www.seoul.co.kr/news/newsView.php?id=20150325500387')\n"
     ]
    },
    {
     "name": "stderr",
     "output_type": "stream",
     "text": [
      "3147it [18:56,  3.09it/s]"
     ]
    },
    {
     "name": "stdout",
     "output_type": "stream",
     "text": [
      "Pandas(Index=3146, url='http://www.seoul.co.kr/news/newsView.php?id=20200528500090')\n"
     ]
    },
    {
     "name": "stderr",
     "output_type": "stream",
     "text": [
      "3178it [19:08,  3.00it/s]"
     ]
    },
    {
     "name": "stdout",
     "output_type": "stream",
     "text": [
      "Pandas(Index=3177, url='http://www.seoul.co.kr/news/newsView.php?id=20190719500017')\n"
     ]
    },
    {
     "name": "stderr",
     "output_type": "stream",
     "text": [
      "3184it [19:10,  2.51it/s]"
     ]
    },
    {
     "name": "stdout",
     "output_type": "stream",
     "text": [
      "Pandas(Index=3183, url='http://www.seoul.co.kr/news/newsView.php?id=20150513500245')\n"
     ]
    },
    {
     "name": "stderr",
     "output_type": "stream",
     "text": [
      "3217it [19:22,  2.91it/s]"
     ]
    },
    {
     "name": "stdout",
     "output_type": "stream",
     "text": [
      "Pandas(Index=3216, url='http://www.seoul.co.kr/news/newsView.php?id=20171030500181')\n"
     ]
    },
    {
     "name": "stderr",
     "output_type": "stream",
     "text": [
      "3227it [19:25,  3.27it/s]"
     ]
    },
    {
     "name": "stdout",
     "output_type": "stream",
     "text": [
      "Pandas(Index=3226, url='http://www.seoul.co.kr/news/newsView.php?id=20081215021001')\n"
     ]
    },
    {
     "name": "stderr",
     "output_type": "stream",
     "text": [
      "3247it [19:32,  1.80it/s]"
     ]
    },
    {
     "name": "stdout",
     "output_type": "stream",
     "text": [
      "Pandas(Index=3246, url='http://www.seoul.co.kr/news/newsView.php?id=20131105500042')\n"
     ]
    },
    {
     "name": "stderr",
     "output_type": "stream",
     "text": [
      "3262it [19:39,  1.87it/s]"
     ]
    },
    {
     "name": "stdout",
     "output_type": "stream",
     "text": [
      "Pandas(Index=3261, url='http://www.seoul.co.kr/news/newsView.php?id=20170906500131')\n"
     ]
    },
    {
     "name": "stderr",
     "output_type": "stream",
     "text": [
      "3322it [20:00,  3.04it/s]"
     ]
    },
    {
     "name": "stdout",
     "output_type": "stream",
     "text": [
      "Pandas(Index=3321, url='http://www.seoul.co.kr/news/newsView.php?id=20190903500096')\n"
     ]
    },
    {
     "name": "stderr",
     "output_type": "stream",
     "text": [
      "3323it [20:01,  2.44it/s]"
     ]
    },
    {
     "name": "stdout",
     "output_type": "stream",
     "text": [
      "Pandas(Index=3322, url='http://www.seoul.co.kr/news/newsView.php?id=20150228500017')\n"
     ]
    },
    {
     "name": "stderr",
     "output_type": "stream",
     "text": [
      "3338it [20:06,  2.51it/s]"
     ]
    },
    {
     "name": "stdout",
     "output_type": "stream",
     "text": [
      "Pandas(Index=3337, url='http://www.seoul.co.kr/news/newsView.php?id=20150226500154')\n"
     ]
    },
    {
     "name": "stderr",
     "output_type": "stream",
     "text": [
      "3351it [20:11,  1.96it/s]"
     ]
    },
    {
     "name": "stdout",
     "output_type": "stream",
     "text": [
      "Pandas(Index=3350, url='http://www.seoul.co.kr/news/newsView.php?id=20200212500137')\n"
     ]
    },
    {
     "name": "stderr",
     "output_type": "stream",
     "text": [
      "3361it [20:14,  3.24it/s]"
     ]
    },
    {
     "name": "stdout",
     "output_type": "stream",
     "text": [
      "Pandas(Index=3360, url='http://www.seoul.co.kr/news/newsView.php?id=20190904500157')\n"
     ]
    },
    {
     "name": "stderr",
     "output_type": "stream",
     "text": [
      "3419it [20:34,  3.07it/s]"
     ]
    },
    {
     "name": "stdout",
     "output_type": "stream",
     "text": [
      "Pandas(Index=3418, url='http://www.seoul.co.kr/news/newsView.php?id=20190111500026')\n"
     ]
    },
    {
     "name": "stderr",
     "output_type": "stream",
     "text": [
      "3432it [20:41,  2.76it/s]\n"
     ]
    }
   ],
   "source": [
    "seoul_crawling('2015.01.01', '2020.10.23')"
   ]
  },
  {
   "cell_type": "code",
   "execution_count": null,
   "metadata": {},
   "outputs": [],
   "source": []
  }
 ],
 "metadata": {
  "kernelspec": {
   "display_name": "Python 3",
   "language": "python",
   "name": "python3"
  },
  "language_info": {
   "codemirror_mode": {
    "name": "ipython",
    "version": 3
   },
   "file_extension": ".py",
   "mimetype": "text/x-python",
   "name": "python",
   "nbconvert_exporter": "python",
   "pygments_lexer": "ipython3",
   "version": "3.8.3"
  }
 },
 "nbformat": 4,
 "nbformat_minor": 4
}
