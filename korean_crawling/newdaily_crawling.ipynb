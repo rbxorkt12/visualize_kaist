{
 "cells": [
  {
   "cell_type": "code",
   "execution_count": 1,
   "metadata": {},
   "outputs": [],
   "source": [
    "import requests \n",
    "from bs4 import BeautifulSoup as bs\n",
    "import pandas as pd\n",
    "from tqdm import tqdm\n",
    "import time\n",
    "import re"
   ]
  },
  {
   "cell_type": "code",
   "execution_count": 2,
   "metadata": {},
   "outputs": [],
   "source": [
    "headers = {'user-agent': 'Mozilla/5.0 (Windows NT 10.0; Win64; x64) AppleWebKit/537.36 (KHTML, like Gecko) Chrome/86.0.4240.75 Safari/537.36'}\n",
    "kor_url_head = 'http://www.newdaily.co.kr/news/search_result.html?search=카이스트&s=&t=date&pn='\n",
    "eng_url_head = 'http://www.newdaily.co.kr/news/search_result.html?search=kaist&s=&t=date&pn='\n",
    "\n",
    "# 검색 결과에 따른 url 링크 저장\n",
    "url1 = []\n",
    "# url 변화하는거 적당히 보고 알아서 잘 해야됨. 페이지 단위로 넘어가는게 아니라면 selenium 써야할 수도 있음.\n",
    "page = 1\n",
    "while page<=107:\n",
    "    url_final = kor_url_head + str(page)\n",
    "    try:\n",
    "        response = requests.get(url_final, headers=headers)\n",
    "        html = response.content\n",
    "        soup = bs(html, \"html.parser\")\n",
    "#            page가 넘어갔을 때 검색결과가 없는 경우 while 문 break\n",
    "        elements = soup.select('#search_result a[href]') # F12 눌러서 적당히 우리가 원하는 a href 태그 url 링크 달려있는 id 또는 class 찾아서 넣어주면 됨.\n",
    "    except:\n",
    "        print('Request Failed_1')\n",
    "    for element in elements:\n",
    "        link = element.attrs['href']\n",
    "        url1.append(link)\n",
    "    page += 1"
   ]
  },
  {
   "cell_type": "code",
   "execution_count": null,
   "metadata": {},
   "outputs": [],
   "source": [
    "url1"
   ]
  },
  {
   "cell_type": "code",
   "execution_count": 3,
   "metadata": {},
   "outputs": [],
   "source": [
    "# 검색 결과에 따른 url2 링크 저장\n",
    "url2 = []\n",
    "page = 1\n",
    "while page<=56:\n",
    "    url_final = eng_url_head + str(page)\n",
    "    try:\n",
    "        response = requests.get(url_final, headers=headers)\n",
    "        html = response.content\n",
    "        soup = bs(html, \"html.parser\")\n",
    "#            page가 넘어갔을 때 검색결과가 없는 경우 while 문 break\n",
    "        elements = soup.select('#search_result a[href]') # F12 눌러서 적당히 우리가 원하는 a href 태그 url 링크 달려있는 id 또는 class 찾아서 넣어주면 됨.\n",
    "    except:\n",
    "        print('Request Failed_1')\n",
    "    for element in elements:\n",
    "        link = element.attrs['href']\n",
    "        url2.append(link)\n",
    "    page += 1"
   ]
  },
  {
   "cell_type": "code",
   "execution_count": 4,
   "metadata": {},
   "outputs": [
    {
     "name": "stdout",
     "output_type": "stream",
     "text": [
      "Total number of articles:  1380\n"
     ]
    },
    {
     "data": {
      "text/html": [
       "<div>\n",
       "<style scoped>\n",
       "    .dataframe tbody tr th:only-of-type {\n",
       "        vertical-align: middle;\n",
       "    }\n",
       "\n",
       "    .dataframe tbody tr th {\n",
       "        vertical-align: top;\n",
       "    }\n",
       "\n",
       "    .dataframe thead th {\n",
       "        text-align: right;\n",
       "    }\n",
       "</style>\n",
       "<table border=\"1\" class=\"dataframe\">\n",
       "  <thead>\n",
       "    <tr style=\"text-align: right;\">\n",
       "      <th></th>\n",
       "      <th>url</th>\n",
       "    </tr>\n",
       "  </thead>\n",
       "  <tbody>\n",
       "    <tr>\n",
       "      <th>0</th>\n",
       "      <td>http://biz.newdaily.co.kr/site/data/html/2015/...</td>\n",
       "    </tr>\n",
       "    <tr>\n",
       "      <th>1</th>\n",
       "      <td>http://cc.newdaily.co.kr/site/data/html/2017/1...</td>\n",
       "    </tr>\n",
       "    <tr>\n",
       "      <th>2</th>\n",
       "      <td>http://biz.newdaily.co.kr/site/data/html/2015/...</td>\n",
       "    </tr>\n",
       "    <tr>\n",
       "      <th>3</th>\n",
       "      <td>http://biz.newdaily.co.kr/site/data/html/2017/...</td>\n",
       "    </tr>\n",
       "    <tr>\n",
       "      <th>4</th>\n",
       "      <td>http://cc.newdaily.co.kr/site/data/html/2017/0...</td>\n",
       "    </tr>\n",
       "  </tbody>\n",
       "</table>\n",
       "</div>"
      ],
      "text/plain": [
       "                                                 url\n",
       "0  http://biz.newdaily.co.kr/site/data/html/2015/...\n",
       "1  http://cc.newdaily.co.kr/site/data/html/2017/1...\n",
       "2  http://biz.newdaily.co.kr/site/data/html/2015/...\n",
       "3  http://biz.newdaily.co.kr/site/data/html/2017/...\n",
       "4  http://cc.newdaily.co.kr/site/data/html/2017/0..."
      ]
     },
     "execution_count": 4,
     "metadata": {},
     "output_type": "execute_result"
    }
   ],
   "source": [
    "url = list(set(url1).union(set(url2)))\n",
    "df = pd.DataFrame({\"url\": url}, columns=[\"url\"])\n",
    "print(\"Total number of articles: \", len(df))\n",
    "df.head()"
   ]
  },
  {
   "cell_type": "code",
   "execution_count": null,
   "metadata": {},
   "outputs": [
    {
     "name": "stderr",
     "output_type": "stream",
     "text": [
      "1203it [04:55,  4.52it/s]"
     ]
    }
   ],
   "source": [
    "contents = []\n",
    "titles = []\n",
    "urls = []\n",
    "for row in tqdm(df.itertuples()):\n",
    "    link = getattr(row, 'url')\n",
    "    response = requests.get(link, headers=headers)\n",
    "    html = response.text\n",
    "    soup = bs(html,'html.parser')\n",
    "    try:\n",
    "        for script in soup([\"script\", \"style\"]):\n",
    "            script.decompose() \n",
    "        title = soup.select('.nd-news-tit')[0].get_text()\n",
    "        content = soup.select('.nd-center')[0].get_text() # select 안에 본문에 해당하는 id 값을 찾아서 넣어주면 됨.\n",
    "        content = content.replace('\\xa0', \" \").replace('\\u3000','').replace('\\r','').replace('\\n', \" \")\n",
    "        title = title.replace('\\xa0', \" \")\n",
    "        title = title.replace('\\n', \" \")\n",
    "        titles.append(title)\n",
    "        contents.append(content)\n",
    "        urls.append(link)\n",
    "    except:\n",
    "        print(row)\n",
    "df = pd.DataFrame({\"url\": urls, \"title\": titles, \"content\": contents}, columns=[\"url\", \"title\", \"content\"])\n",
    "df.to_excel(\"articles/newdaily.xlsx\",index = False)\n",
    "df.to_pickle(\"pickle files/newdaily.pkl\")"
   ]
  },
  {
   "cell_type": "code",
   "execution_count": null,
   "metadata": {},
   "outputs": [],
   "source": []
  }
 ],
 "metadata": {
  "kernelspec": {
   "display_name": "Python 3",
   "language": "python",
   "name": "python3"
  },
  "language_info": {
   "codemirror_mode": {
    "name": "ipython",
    "version": 3
   },
   "file_extension": ".py",
   "mimetype": "text/x-python",
   "name": "python",
   "nbconvert_exporter": "python",
   "pygments_lexer": "ipython3",
   "version": "3.8.3"
  }
 },
 "nbformat": 4,
 "nbformat_minor": 4
}
