{
 "cells": [
  {
   "cell_type": "code",
   "execution_count": 5,
   "metadata": {},
   "outputs": [],
   "source": [
    "import requests \n",
    "from bs4 import BeautifulSoup as bs\n",
    "import pandas as pd\n",
    "from tqdm import tqdm\n",
    "import re"
   ]
  },
  {
   "cell_type": "code",
   "execution_count": 6,
   "metadata": {},
   "outputs": [],
   "source": [
    "def hani_crawling(start_date, end_date):\n",
    "    eng_url_head = 'http://search.hani.co.kr/Search?command=query&keyword=kaist&media=news&submedia=&sort=d&period=all&'\n",
    "    kor_url_head = 'http://search.hani.co.kr/Search?command=query&keyword=카이스트&media=news&submedia=&sort=d&period=all&'\n",
    "    url_tail = 'datefrom=' + str(start_date)+ '&dateto=' + str(end_date) + \"&pageseq=\"\n",
    "    \n",
    "    # 검색 결과에 따른 url 링크 저장\n",
    "    url1 = []\n",
    "    # url 변화하는거 적당히 보고 알아서 잘 해야됨. 페이지 단위로 넘어가는게 아니라면 selenium 써야할 수도 있음.\n",
    "    page = 0\n",
    "    while True:\n",
    "        url_final = eng_url_head + url_tail + str(page)\n",
    "        try:\n",
    "            response = requests.get(url_final)\n",
    "            html = response.content\n",
    "            soup = bs(html, \"html.parser\")\n",
    "#            page가 넘어갔을 때 검색결과가 없는 경우 while 문 break\n",
    "            if len(soup.select('.search-none')) != 0:\n",
    "                break\n",
    "            elements = soup.select('.search-result-list a[href]') # F12 눌러서 적당히 우리가 원하는 a href 태그 url 링크 달려있는 id 또는 class 찾아서 넣어주면 됨.\n",
    "        except:\n",
    "            print('Request Failed_1')\n",
    "        for element in elements:\n",
    "            link = element.attrs['href']\n",
    "            url1.append(link)\n",
    "        page += 1\n",
    "            \n",
    "    # 검색 결과에 따른 url2 링크 저장\n",
    "    url2 = []\n",
    "    page = 0\n",
    "    while True:\n",
    "        url_final = kor_url_head + url_tail + str(page)\n",
    "        try:\n",
    "            response = requests.get(url_final)\n",
    "            html = response.content\n",
    "            soup = bs(html, \"html.parser\")\n",
    "#            page가 넘어갔을 때 검색결과가 없는 경우 while 문 break\n",
    "            if len(soup.select('.search-none')) != 0:\n",
    "                break\n",
    "            elements = soup.select('.search-result-list a[href]') # F12 눌러서 적당히 우리가 원하는 a href 태그 url 링크 달려있는 id 또는 class 찾아서 넣어주면 됨.\n",
    "        except:\n",
    "            print('Request Failed_22')\n",
    "        for element in elements:\n",
    "            link = element.attrs['href']\n",
    "            url2.append(link)\n",
    "        page += 1\n",
    "    url = list(set(url1).union(set(url2)))\n",
    "    if len(url)==0:\n",
    "        print(\"Articles Not Found\")\n",
    "        return 0\n",
    "    df = pd.DataFrame({\"url\": url}, columns=[\"url\"])\n",
    "    contents = []\n",
    "    titles = []\n",
    "    urls = []\n",
    "    for row in tqdm(df.itertuples()):\n",
    "        link = 'http:' + getattr(row, 'url')\n",
    "        response = requests.get(link)\n",
    "        html = response.text\n",
    "        soup = bs(html,'html.parser')\n",
    "        try:\n",
    "            for script in soup([\"script\", \"style\"]):\n",
    "                script.decompose() \n",
    "            title = soup.select('#article_view_headline')[0].get_text()\n",
    "            content = soup.select('.article-text')[0].get_text() # select 안에 본문에 해당하는 id 값을 찾아서 넣어주면 됨.\n",
    "            content = content.replace('\\xa0', \" \").replace('\\u3000','').replace('\\r','').replace('\\n', \" \")\n",
    "            title = title.replace('\\xa0', \" \")\n",
    "            title = title.replace('\\n', \" \")\n",
    "            titles.append(title)\n",
    "            contents.append(content)\n",
    "            urls.append(link)\n",
    "        except:\n",
    "            print(row)\n",
    "    df = pd.DataFrame({\"url\": urls, \"title\": titles, \"content\": contents}, columns=[\"url\", \"title\", \"content\"])\n",
    "    df.to_excel(\"articles/hani.xlsx\",index = False)\n",
    "    df.to_pickle(\"pickle files/hani.pkl\")"
   ]
  },
  {
   "cell_type": "code",
   "execution_count": 8,
   "metadata": {},
   "outputs": [
    {
     "name": "stderr",
     "output_type": "stream",
     "text": [
      "87it [00:24,  2.40it/s]"
     ]
    },
    {
     "name": "stdout",
     "output_type": "stream",
     "text": [
      "Pandas(Index=86, url='//english.hani.co.kr/arti/english_edition/e_national/681405.html')\n",
      "Pandas(Index=87, url='//www.hani.co.kr/arti/english_edition/e_national/702278.html')\n"
     ]
    },
    {
     "name": "stderr",
     "output_type": "stream",
     "text": [
      "101it [00:27,  3.76it/s]"
     ]
    },
    {
     "name": "stdout",
     "output_type": "stream",
     "text": [
      "Pandas(Index=101, url='//www.hani.co.kr/arti/english_edition/e_international/735208.html')\n"
     ]
    },
    {
     "name": "stderr",
     "output_type": "stream",
     "text": [
      "137it [00:37,  3.79it/s]"
     ]
    },
    {
     "name": "stdout",
     "output_type": "stream",
     "text": [
      "Pandas(Index=137, url='//www.hani.co.kr/arti/english_edition/e_national/739886.html')\n"
     ]
    },
    {
     "name": "stderr",
     "output_type": "stream",
     "text": [
      "141it [00:38,  4.11it/s]"
     ]
    },
    {
     "name": "stdout",
     "output_type": "stream",
     "text": [
      "Pandas(Index=141, url='//www.hani.co.kr/arti/english_edition/e_national/735688.html')\n"
     ]
    },
    {
     "name": "stderr",
     "output_type": "stream",
     "text": [
      "190it [00:49,  4.90it/s]"
     ]
    },
    {
     "name": "stdout",
     "output_type": "stream",
     "text": [
      "Pandas(Index=189, url='//www.hani.co.kr/arti/english_edition/e_national/768843.html')\n"
     ]
    },
    {
     "name": "stderr",
     "output_type": "stream",
     "text": [
      "213it [00:54,  5.06it/s]"
     ]
    },
    {
     "name": "stdout",
     "output_type": "stream",
     "text": [
      "Pandas(Index=211, url='//www.hani.co.kr/arti/english_edition/e_national/687420.html')\n"
     ]
    },
    {
     "name": "stderr",
     "output_type": "stream",
     "text": [
      "218it [00:56,  2.36it/s]"
     ]
    },
    {
     "name": "stdout",
     "output_type": "stream",
     "text": [
      "Pandas(Index=217, url='//english.hani.co.kr/arti/english_edition/e_national/676825.html')\n"
     ]
    },
    {
     "name": "stderr",
     "output_type": "stream",
     "text": [
      "277it [01:10,  4.58it/s]"
     ]
    },
    {
     "name": "stdout",
     "output_type": "stream",
     "text": [
      "Pandas(Index=277, url='//www.hani.co.kr/arti/english_edition/e_northkorea/706246.html')\n"
     ]
    },
    {
     "name": "stderr",
     "output_type": "stream",
     "text": [
      "279it [01:10,  4.71it/s]"
     ]
    },
    {
     "name": "stdout",
     "output_type": "stream",
     "text": [
      "Pandas(Index=279, url='//www.hani.co.kr/arti/english_edition/e_international/734808.html')\n"
     ]
    },
    {
     "name": "stderr",
     "output_type": "stream",
     "text": [
      "369it [01:32,  2.23it/s]"
     ]
    },
    {
     "name": "stdout",
     "output_type": "stream",
     "text": [
      "Pandas(Index=368, url='//english.hani.co.kr/arti/english_edition/e_northkorea/685374.html')\n"
     ]
    },
    {
     "name": "stderr",
     "output_type": "stream",
     "text": [
      "411it [01:42,  4.35it/s]"
     ]
    },
    {
     "name": "stdout",
     "output_type": "stream",
     "text": [
      "Pandas(Index=411, url='//www.hani.co.kr/arti/english_edition/e_national/694951.html')\n"
     ]
    },
    {
     "name": "stderr",
     "output_type": "stream",
     "text": [
      "414it [01:42,  4.81it/s]"
     ]
    },
    {
     "name": "stdout",
     "output_type": "stream",
     "text": [
      "Pandas(Index=414, url='//www.hani.co.kr/arti/english_edition/e_business/757589.html')\n"
     ]
    },
    {
     "name": "stderr",
     "output_type": "stream",
     "text": [
      "438it [01:48,  5.09it/s]"
     ]
    },
    {
     "name": "stdout",
     "output_type": "stream",
     "text": [
      "Pandas(Index=436, url='//www.hani.co.kr/arti/english_edition/e_entertainment/748518.html')\n",
      "Pandas(Index=437, url='//www.hani.co.kr/arti/english_edition/e_national/733665.html')\n"
     ]
    },
    {
     "name": "stderr",
     "output_type": "stream",
     "text": [
      "592it [02:25,  5.25it/s]"
     ]
    },
    {
     "name": "stdout",
     "output_type": "stream",
     "text": [
      "Pandas(Index=590, url='//www.hani.co.kr/arti/english_edition/e_business/690381.html')\n",
      "Pandas(Index=591, url='//www.hani.co.kr/arti/english_edition/e_international/754773.html')\n"
     ]
    },
    {
     "name": "stderr",
     "output_type": "stream",
     "text": [
      "626it [02:34,  2.20it/s]"
     ]
    },
    {
     "name": "stdout",
     "output_type": "stream",
     "text": [
      "Pandas(Index=625, url='//english.hani.co.kr/arti/english_edition/e_business/681770.html')\n"
     ]
    },
    {
     "name": "stderr",
     "output_type": "stream",
     "text": [
      "673it [02:46,  4.23it/s]"
     ]
    },
    {
     "name": "stdout",
     "output_type": "stream",
     "text": [
      "Pandas(Index=673, url='//www.hani.co.kr/arti/english_edition/e_business/725991.html')\n"
     ]
    },
    {
     "name": "stderr",
     "output_type": "stream",
     "text": [
      "677it [02:46,  5.37it/s]"
     ]
    },
    {
     "name": "stdout",
     "output_type": "stream",
     "text": [
      "Pandas(Index=676, url='//www.hani.co.kr/arti/english_edition/e_business/737979.html')\n"
     ]
    },
    {
     "name": "stderr",
     "output_type": "stream",
     "text": [
      "776it [03:12,  4.74it/s]"
     ]
    },
    {
     "name": "stdout",
     "output_type": "stream",
     "text": [
      "Pandas(Index=775, url='//www.hani.co.kr/arti/english_edition/e_business/745379.html')\n"
     ]
    },
    {
     "name": "stderr",
     "output_type": "stream",
     "text": [
      "869it [03:36,  2.06it/s]"
     ]
    },
    {
     "name": "stdout",
     "output_type": "stream",
     "text": [
      "Pandas(Index=868, url='//english.hani.co.kr/arti/english_edition/e_northkorea/680085.html')\n"
     ]
    },
    {
     "name": "stderr",
     "output_type": "stream",
     "text": [
      "910it [03:46,  4.02it/s]\n"
     ]
    }
   ],
   "source": [
    "hani_crawling('2015.01.01', '2020.10.23')"
   ]
  },
  {
   "cell_type": "code",
   "execution_count": 2,
   "metadata": {},
   "outputs": [],
   "source": [
    "df = pd.read_pickle('pickle files/2015.01.01-2020.10.23_hani.pkl')"
   ]
  },
  {
   "cell_type": "code",
   "execution_count": 3,
   "metadata": {},
   "outputs": [],
   "source": [
    "df.to_excel('articles/2015.01.01-2020.10.23_hani.xlsx', index=False)"
   ]
  },
  {
   "cell_type": "code",
   "execution_count": null,
   "metadata": {},
   "outputs": [],
   "source": []
  }
 ],
 "metadata": {
  "kernelspec": {
   "display_name": "Python 3",
   "language": "python",
   "name": "python3"
  },
  "language_info": {
   "codemirror_mode": {
    "name": "ipython",
    "version": 3
   },
   "file_extension": ".py",
   "mimetype": "text/x-python",
   "name": "python",
   "nbconvert_exporter": "python",
   "pygments_lexer": "ipython3",
   "version": "3.8.3"
  }
 },
 "nbformat": 4,
 "nbformat_minor": 4
}
