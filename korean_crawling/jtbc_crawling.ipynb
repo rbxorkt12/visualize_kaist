{
 "cells": [
  {
   "cell_type": "code",
   "execution_count": 1,
   "metadata": {},
   "outputs": [],
   "source": [
    "import requests \n",
    "from bs4 import BeautifulSoup as bs\n",
    "import pandas as pd\n",
    "from tqdm import tqdm"
   ]
  },
  {
   "cell_type": "code",
   "execution_count": 4,
   "metadata": {},
   "outputs": [],
   "source": [
    "def jtbc_crawling(start_date, end_date):\n",
    "    url1 = []\n",
    "    # url 변화하는거 적당히 보고 알아서 잘 해야됨. 페이지 단위로 넘어가는게 아니라면 selenium 써야할 수도 있음.\n",
    "    url_head = \"http://jtbc.joins.com/search/news?page=\"\n",
    "    url_tail = \"&term=kaist\"\n",
    "    for page in tqdm(range(1,19)):\n",
    "        url_final = url_head + str(page) + url_tail\n",
    "        response = requests.get(url_final)\n",
    "        html = response.content\n",
    "        soup = bs(html, \"html.parser\")\n",
    "        elements = soup.select('.prg_ttl a[href]') # F12 눌러서 적당히 우리가 원하는 a href 태그 url 링크 달려있는 id 또는 class 찾아서 넣어주면 됨. \n",
    "        for element in elements:\n",
    "            link = element.attrs['href']\n",
    "            url1.append(link)\n",
    "    url2 = []\n",
    "    # url 변화하는거 적당히 보고 알아서 잘 해야됨. 페이지 단위로 넘어가는게 아니라면 selenium 써야할 수도 있음.\n",
    "    url_head = \"http://jtbc.joins.com/search/news?page=\"\n",
    "    url_tail = \"&term=카이스트\"\n",
    "    for page in tqdm(range(1,100)):\n",
    "        url_final = url_head + str(page) + url_tail\n",
    "        response = requests.get(url_final)\n",
    "        html = response.content\n",
    "        soup = bs(html, \"html.parser\")\n",
    "        elements = soup.select('.prg_ttl a[href]') # F12 눌러서 적당히 우리가 원하는 a href 태그 url 링크 달려있는 id 또는 class 찾아서 넣어주면 됨. \n",
    "        for element in elements:\n",
    "            link = element.attrs['href']\n",
    "            url2.append(link)\n",
    "    url = list(set(url1).union(set(url2)))\n",
    "    df = pd.DataFrame({\"url\": url}, columns=[\"url\"])\n",
    "    contents = []\n",
    "    titles = []\n",
    "    urls = []\n",
    "    for row in tqdm(df.itertuples()):\n",
    "        link = getattr(row, 'url')\n",
    "        response = requests.get(link)\n",
    "        html = response.text\n",
    "        soup = bs(html,'html.parser')\n",
    "        try:\n",
    "            for script in soup([\"script\", \"style\"]):\n",
    "                script.decompose() \n",
    "            date = soup.select('.i_date')[0].get_text()\n",
    "            date = date.split(' ')[1]\n",
    "            content = soup.select('#articlebody')[0].get_text() # select 안에 본문에 해당하는 id 값을 찾아서 넣어주면 됨.\n",
    "            content = content.replace('\\xa0', \" \").replace('\\u3000','').replace('\\r','').replace('\\n', \" \")\n",
    "            contents.append(content)\n",
    "            title = soup.select('#jtbcBody h3')[0].get_text()\n",
    "            title = title.replace('\\xa0', \" \")\n",
    "            title = title.replace('\\n', \" \")\n",
    "            titles.append(title)\n",
    "            urls.append(link)\n",
    "        except:\n",
    "            print(row)\n",
    "    df = pd.DataFrame({\"url\": urls, \"title\": titles, \"content\": contents}, columns=[\"url\", \"title\", \"content\"])\n",
    "    df.to_excel(\"articles/jtbc.xlsx\",index = False)\n",
    "    df.to_pickle(\"pickle files/jtbc.pkl\")"
   ]
  },
  {
   "cell_type": "code",
   "execution_count": 5,
   "metadata": {},
   "outputs": [
    {
     "name": "stderr",
     "output_type": "stream",
     "text": [
      "100%|██████████████████████████████████████████████████████████████████████████████████| 18/18 [00:07<00:00,  2.49it/s]\n",
      "100%|██████████████████████████████████████████████████████████████████████████████████| 99/99 [00:33<00:00,  2.92it/s]\n",
      "1110it [04:00,  4.62it/s]\n"
     ]
    }
   ],
   "source": [
    "jtbc_crawling('2015.01.01', '2020.10.23')"
   ]
  },
  {
   "cell_type": "code",
   "execution_count": null,
   "metadata": {},
   "outputs": [],
   "source": []
  }
 ],
 "metadata": {
  "kernelspec": {
   "display_name": "Python 3",
   "language": "python",
   "name": "python3"
  },
  "language_info": {
   "codemirror_mode": {
    "name": "ipython",
    "version": 3
   },
   "file_extension": ".py",
   "mimetype": "text/x-python",
   "name": "python",
   "nbconvert_exporter": "python",
   "pygments_lexer": "ipython3",
   "version": "3.8.3"
  }
 },
 "nbformat": 4,
 "nbformat_minor": 4
}
