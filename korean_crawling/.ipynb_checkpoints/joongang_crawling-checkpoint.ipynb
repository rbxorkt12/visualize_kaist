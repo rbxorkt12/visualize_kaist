{
 "cells": [
  {
   "cell_type": "code",
   "execution_count": 1,
   "metadata": {},
   "outputs": [],
   "source": [
    "import requests \n",
    "from bs4 import BeautifulSoup as bs\n",
    "import pandas as pd\n",
    "from tqdm import tqdm"
   ]
  },
  {
   "cell_type": "code",
   "execution_count": 2,
   "metadata": {},
   "outputs": [],
   "source": [
    "# date는 2020.01.01 형식으로 받아옴 \n",
    "\n",
    "def joongang_crawling(start_date, end_date):\n",
    "    eng_url_1 = 'https://news.joins.com/Search/JoongangNews?Keyword=kaist'\n",
    "    kor_url_1 = 'https://news.joins.com/Search/JoongangNews?Keyword=카이스트'\n",
    "    url_2 = '&StartSearchDate='+str(start_date)+'&EndSearchDate='+str(end_date)\n",
    "    url_3 = '&SortType=New&SearchCategoryType=JoongangNews&PeriodType=DirectInput&ScopeType=TitleContent&ImageType=All&JplusType=All&BlogType=All'\n",
    "    url_4 = '&ImageSearchType=Image&TotalCountStartCount=0&IsChosung=False&IssueCategoryType=All&IsDuplicate=True&Page='\n",
    "    url_5 = '&PageSize=10&IsNeedTotalCount=True'\n",
    "    eng_url_head = eng_url_1 + url_2 + url_3 + url_4\n",
    "    eng_url_tail = url_5\n",
    "    kor_url_head = kor_url_1 + url_2 + url_3 + url_4\n",
    "    kor_url_tail = url_5\n",
    "    \n",
    "    # 검색 결과에 따른 url 링크 저장\n",
    "    url1 = []\n",
    "    # url 변화하는거 적당히 보고 알아서 잘 해야됨. 페이지 단위로 넘어가는게 아니라면 selenium 써야할 수도 있음.\n",
    "    page = 1\n",
    "    while True:\n",
    "        url_final = eng_url_head + str(page) + eng_url_tail\n",
    "        try:\n",
    "            response = requests.get(url_final)\n",
    "            html = response.content\n",
    "            soup = bs(html, \"html.parser\")\n",
    "#            page가 넘어갔을 때 검색결과가 없는 경우 while 문 break\n",
    "            if len(soup.select('.section_no_result')) != 0:\n",
    "                break\n",
    "            elements = soup.select('.thumb a[href]') # F12 눌러서 적당히 우리가 원하는 a href 태그 url 링크 달려있는 id 또는 class 찾아서 넣어주면 됨.\n",
    "        except:\n",
    "            print('Request Failed')\n",
    "            break\n",
    "        for element in elements:\n",
    "          link = element.attrs['href']\n",
    "          url1.append(link)\n",
    "        page += 1\n",
    "            \n",
    "    # 검색 결과에 따른 url2 링크 저장\n",
    "    url2 = []\n",
    "    page = 1\n",
    "    while True:\n",
    "        url_final = kor_url_head + str(page) + kor_url_tail\n",
    "        try:\n",
    "            response = requests.get(url_final)\n",
    "            html = response.content\n",
    "            soup = bs(html, \"html.parser\")\n",
    "#            page가 넘어갔을 때 검색결과가 없는 경우 while 문 break\n",
    "            if len(soup.select('.section_no_result')) != 0:\n",
    "                break\n",
    "            elements = soup.select('.thumb a[href]') # F12 눌러서 적당히 우리가 원하는 a href 태그 url 링크 달려있는 id 또는 class 찾아서 넣어주면 됨.\n",
    "        except:\n",
    "            print('Request Failed')\n",
    "            break\n",
    "        for element in elements:\n",
    "          link = element.attrs['href']\n",
    "          url2.append(link)\n",
    "        page += 1\n",
    "    url = list(set(url1).union(set(url2)))\n",
    "    if len(url)==0:\n",
    "        print(\"Articles Not Found\")\n",
    "        return 0\n",
    "    df = pd.DataFrame({\"url\": url}, columns=[\"url\"])\n",
    "    contents = []\n",
    "    titles = []\n",
    "    urls = []\n",
    "    for row in tqdm(df.itertuples()):\n",
    "        link = getattr(row, 'url')\n",
    "        response = requests.get(link)\n",
    "        html = response.text\n",
    "        soup = bs(html,'html.parser')\n",
    "        try:\n",
    "            for script in soup([\"script\", \"style\"]):\n",
    "                script.decompose() \n",
    "            content = soup.select('#article_body')[0].get_text() # select 안에 본문에 해당하는 id 값을 찾아서 넣어주면 됨.\n",
    "            content = content.replace('\\xa0', \" \").replace('\\u3000','').replace('\\r','').replace('\\n', \" \")\n",
    "            contents.append(content)\n",
    "            title = soup.select('#article_title')[0].get_text() # select 안에 본문에 해당하는 id 값을 찾아서 넣어주면 됨.\n",
    "            title = title.replace('\\xa0', \" \")\n",
    "            title = title.replace('\\n', \" \")\n",
    "            titles.append(title)\n",
    "            urls.append(link)\n",
    "        except:\n",
    "            print(row)\n",
    "    df = pd.DataFrame({\"url\": urls, \"title\": titles, \"content\": contents}, columns=[\"url\", \"title\", \"content\"])\n",
    "    df.to_excel(\"articles/joongang.xlsx\",index = False)\n",
    "    df.to_pickle(\"pickle files/joongang.pkl\")"
   ]
  },
  {
   "cell_type": "code",
   "execution_count": 3,
   "metadata": {},
   "outputs": [
    {
     "name": "stderr",
     "output_type": "stream",
     "text": [
      "1959it [26:38,  1.23it/s]\n"
     ]
    }
   ],
   "source": [
    "joongang_crawling('2015.01.01', '2020.10.23')"
   ]
  },
  {
   "cell_type": "code",
   "execution_count": null,
   "metadata": {},
   "outputs": [],
   "source": []
  }
 ],
 "metadata": {
  "kernelspec": {
   "display_name": "Python 3",
   "language": "python",
   "name": "python3"
  },
  "language_info": {
   "codemirror_mode": {
    "name": "ipython",
    "version": 3
   },
   "file_extension": ".py",
   "mimetype": "text/x-python",
   "name": "python",
   "nbconvert_exporter": "python",
   "pygments_lexer": "ipython3",
   "version": "3.8.3"
  }
 },
 "nbformat": 4,
 "nbformat_minor": 4
}
