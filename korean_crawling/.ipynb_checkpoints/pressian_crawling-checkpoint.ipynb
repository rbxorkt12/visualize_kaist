{
 "cells": [
  {
   "cell_type": "code",
   "execution_count": 1,
   "metadata": {},
   "outputs": [],
   "source": [
    "import requests \n",
    "from bs4 import BeautifulSoup as bs\n",
    "import pandas as pd\n",
    "from tqdm import tqdm\n",
    "import time\n",
    "import re"
   ]
  },
  {
   "cell_type": "code",
   "execution_count": 2,
   "metadata": {},
   "outputs": [],
   "source": [
    "def pressian_crawling(start_date, end_date):\n",
    "    headers = {'user-agent': 'Mozilla/5.0 (Windows NT 10.0; Win64; x64) AppleWebKit/537.36 (KHTML, like Gecko) Chrome/86.0.4240.75 Safari/537.36'}\n",
    "    start_date_ = \"\".join(start_date.split('.'))\n",
    "    end_date_ = \"\".join(end_date.split('.'))\n",
    "    eng_url_head = 'https://www.pressian.com/pages/search?sort=1&search=kaist&startdate=2015년+01월+01일&enddate=2020년+10월+23일&page='\n",
    "    kor_url_head = 'https://www.pressian.com/pages/search?sort=1&search=카이스트&startdate=2015년+01월+01일&enddate=2020년+10월+23일&page='\n",
    "    \n",
    "    # 검색 결과에 따른 url 링크 저장\n",
    "    url1 = []\n",
    "    # url 변화하는거 적당히 보고 알아서 잘 해야됨. 페이지 단위로 넘어가는게 아니라면 selenium 써야할 수도 있음.\n",
    "    page = 1\n",
    "    while True:\n",
    "        url_final = eng_url_head + str(page)\n",
    "        try:\n",
    "            response = requests.get(url_final, headers=headers)\n",
    "            html = response.content\n",
    "            soup = bs(html, \"html.parser\")\n",
    "#            page가 넘어갔을 때 검색결과가 없는 경우 while 문 break\n",
    "            if len(soup.select('.thumb')) == 0:\n",
    "                break\n",
    "            elements = soup.select('.thumb a[href]') # F12 눌러서 적당히 우리가 원하는 a href 태그 url 링크 달려있는 id 또는 class 찾아서 넣어주면 됨.\n",
    "        except:\n",
    "            print('Request Failed_1')\n",
    "        for element in elements:\n",
    "            link = element.attrs['href']\n",
    "            url1.append(link)\n",
    "        page += 1\n",
    "            \n",
    "    # 검색 결과에 따른 url2 링크 저장\n",
    "    url2 = []\n",
    "    page = 1\n",
    "    while True:\n",
    "        url_final = kor_url_head + str(page)\n",
    "        try:  \n",
    "            response = requests.get(url_final, headers=headers)\n",
    "            html = response.content\n",
    "            soup = bs(html, \"html.parser\")\n",
    "#            page가 넘어갔을 때 검색결과가 없는 경우 while 문 break\n",
    "            if len(soup.select('.thumb')) == 0:\n",
    "                break\n",
    "            elements = soup.select('.thumb a[href]') # F12 눌러서 적당히 우리가 원하는 a href 태그 url 링크 달려있는 id 또는 class 찾아서 넣어주면 됨.\n",
    "        except:\n",
    "            print('Request Failed_1')\n",
    "        for element in elements:\n",
    "            link = element.attrs['href']\n",
    "            url1.append(link)\n",
    "        page += 1\n",
    "    url = list(set(url1).union(set(url2)))\n",
    "    if len(url)==0:\n",
    "        print(\"Articles Not Found\")\n",
    "        return 0\n",
    "    df = pd.DataFrame({\"url\": url}, columns=[\"url\"])\n",
    "    contents = []\n",
    "    titles = []\n",
    "    urls = []\n",
    "    for row in tqdm(df.itertuples()):\n",
    "        link ='https://www.pressian.com' + getattr(row, 'url')\n",
    "        response = requests.get(link, headers=headers)\n",
    "        html = response.text\n",
    "        soup = bs(html,'html.parser')\n",
    "        try:\n",
    "            for script in soup([\"script\", \"style\"]):\n",
    "                script.decompose() \n",
    "            title = soup.select('title')[0].get_text()\n",
    "            content = soup.select('.article_body')[0].get_text() # select 안에 본문에 해당하는 id 값을 찾아서 넣어주면 됨.\n",
    "            content = content.replace('\\xa0', \" \").replace('\\u3000','').replace('\\r','').replace('\\n', \" \")\n",
    "            title = title.replace('\\xa0', \" \")\n",
    "            title = title.replace('\\n', \" \")\n",
    "            titles.append(title)\n",
    "            contents.append(content)\n",
    "            urls.append(link)\n",
    "        except:\n",
    "            print(row)\n",
    "    df = pd.DataFrame({\"url\": urls, \"title\": titles, \"content\": contents}, columns=[\"url\", \"title\", \"content\"])\n",
    "    df.to_excel(\"articles/pressian.xlsx\",index = False)\n",
    "    df.to_pickle(\"pickle files/pressian.pkl\")"
   ]
  },
  {
   "cell_type": "code",
   "execution_count": 3,
   "metadata": {},
   "outputs": [
    {
     "name": "stderr",
     "output_type": "stream",
     "text": [
      "59it [00:34,  2.35it/s]"
     ]
    },
    {
     "name": "stdout",
     "output_type": "stream",
     "text": [
      "Pandas(Index=58, url='/pages/articles/252158')\n"
     ]
    },
    {
     "name": "stderr",
     "output_type": "stream",
     "text": [
      "254it [02:32,  1.67it/s]\n"
     ]
    }
   ],
   "source": [
    "pressian_crawling('2015.01.01', '2020.10.23')"
   ]
  },
  {
   "cell_type": "code",
   "execution_count": null,
   "metadata": {},
   "outputs": [],
   "source": []
  }
 ],
 "metadata": {
  "kernelspec": {
   "display_name": "Python 3",
   "language": "python",
   "name": "python3"
  },
  "language_info": {
   "codemirror_mode": {
    "name": "ipython",
    "version": 3
   },
   "file_extension": ".py",
   "mimetype": "text/x-python",
   "name": "python",
   "nbconvert_exporter": "python",
   "pygments_lexer": "ipython3",
   "version": "3.8.3"
  }
 },
 "nbformat": 4,
 "nbformat_minor": 4
}
