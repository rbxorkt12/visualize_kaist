{
 "cells": [
  {
   "cell_type": "code",
   "execution_count": 3,
   "metadata": {},
   "outputs": [],
   "source": [
    "import requests \n",
    "from bs4 import BeautifulSoup as bs\n",
    "import pandas as pd\n",
    "from tqdm import tqdm\n",
    "import time\n",
    "import re"
   ]
  },
  {
   "cell_type": "code",
   "execution_count": 4,
   "metadata": {},
   "outputs": [],
   "source": [
    "def khan_crawling(start_date, end_date):\n",
    "    headers = {'user-agent': 'Mozilla/5.0 (Windows NT 10.0; Win64; x64) AppleWebKit/537.36 (KHTML, like Gecko) Chrome/86.0.4240.75 Safari/537.36'}\n",
    "    start_date_ = \"\".join(start_date.split('.'))\n",
    "    end_date_ = \"\".join(end_date.split('.'))\n",
    "    eng_url_head = 'http://search.khan.co.kr/search.html?stb=khan&dm=5&q=kaist&sort=1&d1='\n",
    "    kor_url_head = 'http://search.khan.co.kr/search.html?stb=khan&dm=5&q=카이스트&sort=1&d1='\n",
    "    url_tail = str(start_date_)+'~'+str(end_date_)+'&pg='\n",
    "    \n",
    "    # 검색 결과에 따른 url 링크 저장\n",
    "    url1 = []\n",
    "    # url 변화하는거 적당히 보고 알아서 잘 해야됨. 페이지 단위로 넘어가는게 아니라면 selenium 써야할 수도 있음.\n",
    "    page = 1\n",
    "    while True:\n",
    "        url_final = eng_url_head + url_tail + str(page)\n",
    "        try:\n",
    "            response = requests.get(url_final, headers=headers)\n",
    "            html = response.content\n",
    "            soup = bs(html, \"html.parser\")\n",
    "#            page가 넘어갔을 때 검색결과가 없는 경우 while 문 break\n",
    "            if len(soup.select('.phArtc')) == 0:\n",
    "                break\n",
    "            elements = soup.select('.phArtc a[href]') # F12 눌러서 적당히 우리가 원하는 a href 태그 url 링크 달려있는 id 또는 class 찾아서 넣어주면 됨.\n",
    "        except:\n",
    "            print('Request Failed_1')\n",
    "        for element in elements:\n",
    "            link = element.attrs['href']\n",
    "            url1.append(link)\n",
    "        page += 1\n",
    "            \n",
    "    # 검색 결과에 따른 url2 링크 저장\n",
    "    url2 = []\n",
    "    page = 1\n",
    "    while True:\n",
    "        url_final = kor_url_head + url_tail + str(page)\n",
    "        try:  \n",
    "            response = requests.get(url_final, headers=headers)\n",
    "            html = response.content\n",
    "            soup = bs(html, \"html.parser\")\n",
    "#            page가 넘어갔을 때 검색결과가 없는 경우 while 문 break\n",
    "            if len(soup.select('.phArtc')) == 0:\n",
    "                break\n",
    "            elements = soup.select('.phArtc a[href]') # F12 눌러서 적당히 우리가 원하는 a href 태그 url 링크 달려있는 id 또는 class 찾아서 넣어주면 됨.\n",
    "        except:\n",
    "            print('Request Failed_1')\n",
    "        for element in elements:\n",
    "            link = element.attrs['href']\n",
    "            url1.append(link)\n",
    "        page += 1\n",
    "    url = list(set(url1).union(set(url2)))\n",
    "    if len(url)==0:\n",
    "        print(\"Articles Not Found\")\n",
    "        return 0\n",
    "    df = pd.DataFrame({\"url\": url}, columns=[\"url\"])\n",
    "    contents = []\n",
    "    titles = []\n",
    "    urls = []\n",
    "    for row in tqdm(df.itertuples()):\n",
    "        link = getattr(row, 'url')\n",
    "        response = requests.get(link, headers=headers)\n",
    "        html = response.text\n",
    "        soup = bs(html,'html.parser')\n",
    "        try:\n",
    "            for script in soup([\"script\", \"style\"]):\n",
    "                script.decompose() \n",
    "            title = soup.select('title')[0].get_text()\n",
    "            content = soup.select('.art_body')[0].get_text() # select 안에 본문에 해당하는 id 값을 찾아서 넣어주면 됨.\n",
    "            content = content.replace('\\xa0', \" \").replace('\\u3000','').replace('\\r','').replace('\\n', \" \")\n",
    "            title = title.replace('\\xa0', \" \")\n",
    "            title = title.replace('\\n', \" \")\n",
    "            titles.append(title)\n",
    "            contents.append(content)\n",
    "            urls.append(link)\n",
    "        except:\n",
    "            print(row)\n",
    "    df = pd.DataFrame({\"url\": urls, \"title\": titles, \"content\": contents}, columns=[\"url\", \"title\", \"content\"])\n",
    "    df.to_excel(\"articles/kahn.xlsx\",index = False)\n",
    "    df.to_pickle(\"pickle files/kahn.pkl\")"
   ]
  },
  {
   "cell_type": "code",
   "execution_count": 5,
   "metadata": {},
   "outputs": [
    {
     "name": "stderr",
     "output_type": "stream",
     "text": [
      "87it [00:33,  2.62it/s]"
     ]
    },
    {
     "name": "stdout",
     "output_type": "stream",
     "text": [
      "Pandas(Index=86, url='http://news.khan.co.kr/kh_news/khan_art_view.html?artid=201708301701001&code=940100')\n"
     ]
    },
    {
     "name": "stderr",
     "output_type": "stream",
     "text": [
      "103it [00:39,  2.96it/s]"
     ]
    },
    {
     "name": "stdout",
     "output_type": "stream",
     "text": [
      "Pandas(Index=102, url='http://news.khan.co.kr/kh_news/khan_art_view.html?artid=201604301123001&code=940100')\n"
     ]
    },
    {
     "name": "stderr",
     "output_type": "stream",
     "text": [
      "108it [00:41,  2.03it/s]"
     ]
    },
    {
     "name": "stdout",
     "output_type": "stream",
     "text": [
      "Pandas(Index=107, url='http://news.khan.co.kr/kh_news/khan_art_view.html?artid=201808031722001&code=940100')\n"
     ]
    },
    {
     "name": "stderr",
     "output_type": "stream",
     "text": [
      "209it [01:22,  4.18it/s]"
     ]
    },
    {
     "name": "stdout",
     "output_type": "stream",
     "text": [
      "Pandas(Index=208, url='http://news.khan.co.kr/kh_news/khan_art_view.html?artid=201706291611207&code=920100')\n"
     ]
    },
    {
     "name": "stderr",
     "output_type": "stream",
     "text": [
      "240it [01:34,  2.50it/s]"
     ]
    },
    {
     "name": "stdout",
     "output_type": "stream",
     "text": [
      "Pandas(Index=239, url='http://news.khan.co.kr/kh_news/khan_art_view.html?artid=201603102037027&code=990304')\n"
     ]
    },
    {
     "name": "stderr",
     "output_type": "stream",
     "text": [
      "255it [01:39,  2.52it/s]"
     ]
    },
    {
     "name": "stdout",
     "output_type": "stream",
     "text": [
      "Pandas(Index=254, url='http://news.khan.co.kr/kh_news/khan_art_view.html?artid=201601181449591&code=940100')\n"
     ]
    },
    {
     "name": "stderr",
     "output_type": "stream",
     "text": [
      "262it [01:42,  2.29it/s]"
     ]
    },
    {
     "name": "stdout",
     "output_type": "stream",
     "text": [
      "Pandas(Index=261, url='http://news.khan.co.kr/kh_news/khan_art_view.html?artid=201603170950091&code=940100')\n"
     ]
    },
    {
     "name": "stderr",
     "output_type": "stream",
     "text": [
      "301it [01:55,  3.33it/s]"
     ]
    },
    {
     "name": "stdout",
     "output_type": "stream",
     "text": [
      "Pandas(Index=300, url='http://news.khan.co.kr/kh_news/khan_art_view.html?artid=201707170028002&code=940100')\n"
     ]
    },
    {
     "name": "stderr",
     "output_type": "stream",
     "text": [
      "353it [02:15,  2.70it/s]"
     ]
    },
    {
     "name": "stdout",
     "output_type": "stream",
     "text": [
      "Pandas(Index=352, url='http://news.khan.co.kr/kh_news/khan_art_view.html?artid=201708310942001&code=940601')\n"
     ]
    },
    {
     "name": "stderr",
     "output_type": "stream",
     "text": [
      "444it [02:49,  4.36it/s]"
     ]
    },
    {
     "name": "stdout",
     "output_type": "stream",
     "text": [
      "Pandas(Index=443, url='http://news.khan.co.kr/kh_news/khan_art_view.html?artid=201704051807017&code=910110')\n"
     ]
    },
    {
     "name": "stderr",
     "output_type": "stream",
     "text": [
      "541it [03:27,  2.36it/s]"
     ]
    },
    {
     "name": "stdout",
     "output_type": "stream",
     "text": [
      "Pandas(Index=540, url='http://news.khan.co.kr/kh_news/khan_art_view.html?artid=201610111823077&code=930201')\n"
     ]
    },
    {
     "name": "stderr",
     "output_type": "stream",
     "text": [
      "639it [04:01,  2.46it/s]"
     ]
    },
    {
     "name": "stdout",
     "output_type": "stream",
     "text": [
      "Pandas(Index=638, url='http://news.khan.co.kr/kh_news/khan_art_view.html?artid=201801151437087&code=990201')\n"
     ]
    },
    {
     "name": "stderr",
     "output_type": "stream",
     "text": [
      "686it [04:17,  4.22it/s]"
     ]
    },
    {
     "name": "stdout",
     "output_type": "stream",
     "text": [
      "Pandas(Index=685, url='http://news.khan.co.kr/kh_news/khan_art_view.html?artid=201610271804407&code=910100')\n"
     ]
    },
    {
     "name": "stderr",
     "output_type": "stream",
     "text": [
      "767it [04:46,  2.09it/s]"
     ]
    },
    {
     "name": "stdout",
     "output_type": "stream",
     "text": [
      "Pandas(Index=766, url='http://news.khan.co.kr/kh_news/khan_art_view.html?artid=201602211610091&code=940100')\n"
     ]
    },
    {
     "name": "stderr",
     "output_type": "stream",
     "text": [
      "775it [04:49,  2.31it/s]"
     ]
    },
    {
     "name": "stdout",
     "output_type": "stream",
     "text": [
      "Pandas(Index=773, url='http://news.khan.co.kr/kh_news/khan_art_view.html?artid=201710260600001&code=940100')\n"
     ]
    },
    {
     "name": "stderr",
     "output_type": "stream",
     "text": [
      "783it [04:52,  3.29it/s]"
     ]
    },
    {
     "name": "stdout",
     "output_type": "stream",
     "text": [
      "Pandas(Index=782, url='http://news.khan.co.kr/kh_news/khan_art_view.html?artid=201708291808287&code=910203')\n"
     ]
    },
    {
     "name": "stderr",
     "output_type": "stream",
     "text": [
      "804it [04:59,  3.31it/s]"
     ]
    },
    {
     "name": "stdout",
     "output_type": "stream",
     "text": [
      "Pandas(Index=803, url='http://news.khan.co.kr/kh_news/khan_art_view.html?artid=201604291556001&code=940100')\n"
     ]
    },
    {
     "name": "stderr",
     "output_type": "stream",
     "text": [
      "825it [05:07,  3.13it/s]"
     ]
    },
    {
     "name": "stdout",
     "output_type": "stream",
     "text": [
      "Pandas(Index=824, url='http://news.khan.co.kr/kh_news/khan_art_view.html?artid=201612260003001&code=940100')\n"
     ]
    },
    {
     "name": "stderr",
     "output_type": "stream",
     "text": [
      "865it [05:21,  2.69it/s]"
     ]
    },
    {
     "name": "stdout",
     "output_type": "stream",
     "text": [
      "Pandas(Index=864, url='http://news.khan.co.kr/kh_news/khan_art_view.html?artid=201610111022011&code=940100')\n"
     ]
    },
    {
     "name": "stderr",
     "output_type": "stream",
     "text": [
      "941it [05:47,  4.72it/s]"
     ]
    },
    {
     "name": "stdout",
     "output_type": "stream",
     "text": [
      "Pandas(Index=940, url='http://news.khan.co.kr/kh_news/khan_art_view.html?artid=201607251827247&code=940100')\n"
     ]
    },
    {
     "name": "stderr",
     "output_type": "stream",
     "text": [
      "996it [06:09,  2.01it/s]"
     ]
    },
    {
     "name": "stdout",
     "output_type": "stream",
     "text": [
      "Pandas(Index=995, url='http://news.khan.co.kr/kh_news/khan_art_view.html?artid=201609200040001&code=940100')\n"
     ]
    },
    {
     "name": "stderr",
     "output_type": "stream",
     "text": [
      "1003it [06:11,  3.27it/s]"
     ]
    },
    {
     "name": "stdout",
     "output_type": "stream",
     "text": [
      "Pandas(Index=1002, url='http://news.khan.co.kr/kh_news/khan_art_view.html?artid=201609260030002&code=940100')\n"
     ]
    },
    {
     "name": "stderr",
     "output_type": "stream",
     "text": [
      "1161it [07:07,  3.61it/s]"
     ]
    },
    {
     "name": "stdout",
     "output_type": "stream",
     "text": [
      "Pandas(Index=1160, url='http://news.khan.co.kr/kh_news/khan_art_view.html?artid=201605290956001&code=920100')\n"
     ]
    },
    {
     "name": "stderr",
     "output_type": "stream",
     "text": [
      "1211it [07:24,  3.56it/s]"
     ]
    },
    {
     "name": "stdout",
     "output_type": "stream",
     "text": [
      "Pandas(Index=1210, url='http://news.khan.co.kr/kh_news/khan_art_view.html?artid=201610240030002&code=940100')\n"
     ]
    },
    {
     "name": "stderr",
     "output_type": "stream",
     "text": [
      "1218it [07:27,  2.72it/s]\n"
     ]
    }
   ],
   "source": [
    "khan_crawling('2015.01.01', '2020.10.23')"
   ]
  }
 ],
 "metadata": {
  "kernelspec": {
   "display_name": "Python 3",
   "language": "python",
   "name": "python3"
  },
  "language_info": {
   "codemirror_mode": {
    "name": "ipython",
    "version": 3
   },
   "file_extension": ".py",
   "mimetype": "text/x-python",
   "name": "python",
   "nbconvert_exporter": "python",
   "pygments_lexer": "ipython3",
   "version": "3.8.3"
  }
 },
 "nbformat": 4,
 "nbformat_minor": 4
}
