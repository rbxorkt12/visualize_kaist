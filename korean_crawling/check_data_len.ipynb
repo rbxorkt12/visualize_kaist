{
 "cells": [
  {
   "cell_type": "code",
   "execution_count": 2,
   "metadata": {},
   "outputs": [],
   "source": [
    "import pandas as pd\n",
    "import os"
   ]
  },
  {
   "cell_type": "code",
   "execution_count": 9,
   "metadata": {},
   "outputs": [
    {
     "name": "stdout",
     "output_type": "stream",
     "text": [
      "donga.pkl :  1417\n",
      "etnews.pkl :  3089\n",
      "hani.pkl :  888\n",
      "joongang.pkl :  1959\n",
      "jtbc.pkl :  1110\n",
      "kahn.pkl :  1194\n",
      "kmib.pkl :  1143\n",
      "newdaily.pkl :  1380\n",
      "pressian.pkl :  253\n",
      "seoul.pkl :  3258\n",
      "15691\n"
     ]
    }
   ],
   "source": [
    "sum = 0\n",
    "for file in os.listdir('pickle files'):\n",
    "    df = pd.read_pickle('pickle files/'+file)\n",
    "    print(file, ': ', len(df))\n",
    "    sum+=len(df)\n",
    "print(sum)"
   ]
  },
  {
   "cell_type": "code",
   "execution_count": null,
   "metadata": {},
   "outputs": [],
   "source": []
  }
 ],
 "metadata": {
  "kernelspec": {
   "display_name": "Python 3",
   "language": "python",
   "name": "python3"
  },
  "language_info": {
   "codemirror_mode": {
    "name": "ipython",
    "version": 3
   },
   "file_extension": ".py",
   "mimetype": "text/x-python",
   "name": "python",
   "nbconvert_exporter": "python",
   "pygments_lexer": "ipython3",
   "version": "3.8.3"
  }
 },
 "nbformat": 4,
 "nbformat_minor": 4
}
