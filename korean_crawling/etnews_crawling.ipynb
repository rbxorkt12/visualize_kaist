{
 "cells": [
  {
   "cell_type": "code",
   "execution_count": 2,
   "metadata": {},
   "outputs": [],
   "source": [
    "import requests \n",
    "from bs4 import BeautifulSoup as bs\n",
    "import pandas as pd\n",
    "from tqdm import tqdm\n",
    "import time\n",
    "import re"
   ]
  },
  {
   "cell_type": "code",
   "execution_count": 3,
   "metadata": {},
   "outputs": [
    {
     "name": "stderr",
     "output_type": "stream",
     "text": [
      "100%|████████████████████████████████████████████████████████████████████████████████| 340/340 [17:06<00:00,  3.02s/it]\n"
     ]
    }
   ],
   "source": [
    "headers = {'user-agent': 'Mozilla/5.0 (Windows NT 10.0; Win64; x64) AppleWebKit/537.36 (KHTML, like Gecko) Chrome/86.0.4240.75 Safari/537.36'}\n",
    "\n",
    "eng_url_head = 'https://search.etnews.com/etnews/search.php?category=CATEGORY1&kwd=kaist&pageNum='\n",
    "\n",
    "eng_url_tail = '&pageSize=10&reSrchFlag=false&sort=1&startDate=&endDate=&sitegubun=&jisikgubun=&preKwd%5B0%5D=kaist#&pageNum=340'\n",
    "\n",
    "url1 = []\n",
    "# url 변화하는거 적당히 보고 알아서 잘 해야됨. 페이지 단위로 넘어가는게 아니라면 selenium 써야할 수도 있음.\n",
    "for i in tqdm(range(340)):\n",
    "    url_final = eng_url_head + str(i) +eng_url_tail\n",
    "    try:\n",
    "        response = requests.get(url_final, headers=headers)\n",
    "        html = response.content\n",
    "        soup = bs(html, \"html.parser\")\n",
    "#            page가 넘어갔을 때 검색결과가 없는 경우 while 문 break\n",
    "        elements = soup.select('.thumb a[href]') # F12 눌러서 적당히 우리가 원하는 a href 태그 url 링크 달려있는 id 또는 class 찾아서 넣어주면 됨.\n",
    "    except:\n",
    "        print('Request Failed_1')\n",
    "    for element in elements:\n",
    "        link = element.attrs['href']\n",
    "        url1.append(link)"
   ]
  },
  {
   "cell_type": "code",
   "execution_count": 4,
   "metadata": {},
   "outputs": [
    {
     "name": "stdout",
     "output_type": "stream",
     "text": [
      "Total number of articles:  3089\n"
     ]
    },
    {
     "data": {
      "text/html": [
       "<div>\n",
       "<style scoped>\n",
       "    .dataframe tbody tr th:only-of-type {\n",
       "        vertical-align: middle;\n",
       "    }\n",
       "\n",
       "    .dataframe tbody tr th {\n",
       "        vertical-align: top;\n",
       "    }\n",
       "\n",
       "    .dataframe thead th {\n",
       "        text-align: right;\n",
       "    }\n",
       "</style>\n",
       "<table border=\"1\" class=\"dataframe\">\n",
       "  <thead>\n",
       "    <tr style=\"text-align: right;\">\n",
       "      <th></th>\n",
       "      <th>url</th>\n",
       "    </tr>\n",
       "  </thead>\n",
       "  <tbody>\n",
       "    <tr>\n",
       "      <th>0</th>\n",
       "      <td>//www.etnews.com/20160327000025</td>\n",
       "    </tr>\n",
       "    <tr>\n",
       "      <th>1</th>\n",
       "      <td>//www.etnews.com/20191015000210</td>\n",
       "    </tr>\n",
       "    <tr>\n",
       "      <th>2</th>\n",
       "      <td>//www.etnews.com/20180516000464</td>\n",
       "    </tr>\n",
       "    <tr>\n",
       "      <th>3</th>\n",
       "      <td>//www.etnews.com/20160216000163</td>\n",
       "    </tr>\n",
       "    <tr>\n",
       "      <th>4</th>\n",
       "      <td>//www.etnews.com/20170910000079</td>\n",
       "    </tr>\n",
       "  </tbody>\n",
       "</table>\n",
       "</div>"
      ],
      "text/plain": [
       "                               url\n",
       "0  //www.etnews.com/20160327000025\n",
       "1  //www.etnews.com/20191015000210\n",
       "2  //www.etnews.com/20180516000464\n",
       "3  //www.etnews.com/20160216000163\n",
       "4  //www.etnews.com/20170910000079"
      ]
     },
     "execution_count": 4,
     "metadata": {},
     "output_type": "execute_result"
    }
   ],
   "source": [
    "url = list(set(url1))\n",
    "df = pd.DataFrame({\"url\": url}, columns=[\"url\"])\n",
    "print(\"Total number of articles: \", len(df))\n",
    "df.head()"
   ]
  },
  {
   "cell_type": "code",
   "execution_count": 5,
   "metadata": {},
   "outputs": [
    {
     "name": "stderr",
     "output_type": "stream",
     "text": [
      "3089it [08:03,  6.39it/s]\n"
     ]
    }
   ],
   "source": [
    "contents = []\n",
    "titles = []\n",
    "urls = []\n",
    "for row in tqdm(df.itertuples()):\n",
    "    link = 'https:' + getattr(row, 'url')\n",
    "    response = requests.get(link, headers=headers)\n",
    "    html = response.text\n",
    "    soup = bs(html,'html.parser')\n",
    "    try:\n",
    "        for script in soup([\"script\", \"style\"]):\n",
    "            script.decompose() \n",
    "        title = soup.select('.article_title')[0].get_text()\n",
    "        content = soup.select('.article_body')[0].get_text() # select 안에 본문에 해당하는 id 값을 찾아서 넣어주면 됨.\n",
    "        content = content.replace('\\xa0', \" \").replace('\\u3000','').replace('\\r','').replace('\\n', \" \")\n",
    "        title = title.replace('\\xa0', \" \")\n",
    "        title = title.replace('\\n', \" \")\n",
    "        titles.append(title)\n",
    "        contents.append(content)\n",
    "        urls.append(link)\n",
    "    except:\n",
    "        print(row)\n",
    "df = pd.DataFrame({\"url\": urls, \"title\": titles, \"content\": contents}, columns=[\"url\", \"title\", \"content\"])\n",
    "df.to_excel(\"articles/etnews.xlsx\",index = False)\n",
    "df.to_pickle(\"pickle files/etnews.pkl\")"
   ]
  },
  {
   "cell_type": "code",
   "execution_count": null,
   "metadata": {},
   "outputs": [],
   "source": []
  }
 ],
 "metadata": {
  "kernelspec": {
   "display_name": "Python 3",
   "language": "python",
   "name": "python3"
  },
  "language_info": {
   "codemirror_mode": {
    "name": "ipython",
    "version": 3
   },
   "file_extension": ".py",
   "mimetype": "text/x-python",
   "name": "python",
   "nbconvert_exporter": "python",
   "pygments_lexer": "ipython3",
   "version": "3.8.3"
  }
 },
 "nbformat": 4,
 "nbformat_minor": 4
}
